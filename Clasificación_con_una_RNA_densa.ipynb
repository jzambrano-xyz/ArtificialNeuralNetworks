{
  "nbformat": 4,
  "nbformat_minor": 0,
  "metadata": {
    "colab": {
      "name": "Clasificación con una RNA densa",
      "provenance": [],
      "authorship_tag": "ABX9TyMaM7/Lhtj5WCkDcd+3BJE3",
      "include_colab_link": true
    },
    "kernelspec": {
      "name": "python3",
      "display_name": "Python 3"
    },
    "language_info": {
      "name": "python"
    }
  },
  "cells": [
    {
      "cell_type": "markdown",
      "metadata": {
        "id": "view-in-github",
        "colab_type": "text"
      },
      "source": [
        "<a href=\"https://colab.research.google.com/github/jzambrano-xyz/ArtificialNeuralNetworks/blob/main/Clasificaci%C3%B3n_con_una_RNA_densa.ipynb\" target=\"_parent\"><img src=\"https://colab.research.google.com/assets/colab-badge.svg\" alt=\"Open In Colab\"/></a>"
      ]
    },
    {
      "cell_type": "markdown",
      "metadata": {
        "id": "_ZvhKnzsO5Wn"
      },
      "source": [
        "# Clasificación con una RNA densa"
      ]
    },
    {
      "cell_type": "markdown",
      "metadata": {
        "id": "oV5gct0MPKGM"
      },
      "source": [
        "Librerías"
      ]
    },
    {
      "cell_type": "code",
      "metadata": {
        "id": "2cgc3oLROzc6"
      },
      "source": [
        "import numpy as np # linear algebra\n",
        "import pandas as pd # data processing, CSV file I/O (e.g. pd.read_csv)\n",
        "\n",
        "# Input data files are available in the read-only \"../input/\" directory\n",
        "# For example, running this (by clicking run or pressing Shift+Enter) will list all files under the input directory\n",
        "\n",
        "import os\n",
        "for dirname, _, filenames in os.walk(''):\n",
        "    for filename in filenames:\n",
        "        print(os.path.join(dirname, filename))"
      ],
      "execution_count": null,
      "outputs": []
    },
    {
      "cell_type": "markdown",
      "metadata": {
        "id": "zgU4MCMvPLgD"
      },
      "source": [
        "Librerías para manejo de datos"
      ]
    },
    {
      "cell_type": "code",
      "metadata": {
        "id": "TW2l_o7gPNHo"
      },
      "source": [
        "import pandas as pd\n",
        "import numpy as np\n",
        "import matplotlib.pyplot as plt\n",
        "from sklearn.model_selection import train_test_split\n",
        "from sklearn.preprocessing import MinMaxScaler\n",
        "from sklearn.feature_selection import SelectKBest, f_classif\n",
        "from sklearn.metrics import confusion_matrix, plot_confusion_matrix\n",
        "import seaborn as sns\n",
        "import tensorflow as tf\n",
        "from keras.models import Sequential\n",
        "from keras.layers import Dense\n",
        "from tensorflow.keras.utils import to_categorical"
      ],
      "execution_count": null,
      "outputs": []
    },
    {
      "cell_type": "markdown",
      "metadata": {
        "id": "iHuYJSadPVo8"
      },
      "source": [
        "Datos"
      ]
    },
    {
      "cell_type": "code",
      "metadata": {
        "id": "lH-iRiXVPX0v"
      },
      "source": [
        "dnndstrain=pd.read_csv('train.csv')\n",
        "dnndstest=pd.read_csv('test.csv')"
      ],
      "execution_count": null,
      "outputs": []
    },
    {
      "cell_type": "markdown",
      "metadata": {
        "id": "AJUudeXgPZ1x"
      },
      "source": [
        "Análisis de datos"
      ]
    },
    {
      "cell_type": "code",
      "metadata": {
        "colab": {
          "base_uri": "https://localhost:8080/"
        },
        "id": "Xl2daClFPcRq",
        "outputId": "3a1e442a-6310-4c66-ca8d-2c37ea25e628"
      },
      "source": [
        "dnndstrain.info()"
      ],
      "execution_count": null,
      "outputs": [
        {
          "output_type": "stream",
          "name": "stdout",
          "text": [
            "<class 'pandas.core.frame.DataFrame'>\n",
            "RangeIndex: 11692 entries, 0 to 11691\n",
            "Data columns (total 31 columns):\n",
            " #   Column  Non-Null Count  Dtype  \n",
            "---  ------  --------------  -----  \n",
            " 0   0       11692 non-null  float64\n",
            " 1   1       11692 non-null  float64\n",
            " 2   2       11692 non-null  float64\n",
            " 3   3       11692 non-null  float64\n",
            " 4   4       11692 non-null  float64\n",
            " 5   5       11692 non-null  float64\n",
            " 6   6       11692 non-null  float64\n",
            " 7   7       11692 non-null  float64\n",
            " 8   8       11692 non-null  float64\n",
            " 9   9       11691 non-null  float64\n",
            " 10  10      11691 non-null  float64\n",
            " 11  11      11691 non-null  float64\n",
            " 12  12      11691 non-null  float64\n",
            " 13  13      11691 non-null  float64\n",
            " 14  14      11691 non-null  float64\n",
            " 15  15      11691 non-null  float64\n",
            " 16  16      11691 non-null  float64\n",
            " 17  17      11691 non-null  float64\n",
            " 18  18      11691 non-null  float64\n",
            " 19  19      11691 non-null  float64\n",
            " 20  20      11691 non-null  float64\n",
            " 21  21      11691 non-null  float64\n",
            " 22  22      11691 non-null  float64\n",
            " 23  23      11691 non-null  float64\n",
            " 24  24      11691 non-null  float64\n",
            " 25  25      11691 non-null  float64\n",
            " 26  26      11691 non-null  float64\n",
            " 27  27      11691 non-null  float64\n",
            " 28  28      11691 non-null  float64\n",
            " 29  29      11691 non-null  float64\n",
            " 30  label   11691 non-null  float64\n",
            "dtypes: float64(31)\n",
            "memory usage: 2.8 MB\n"
          ]
        }
      ]
    },
    {
      "cell_type": "code",
      "metadata": {
        "colab": {
          "base_uri": "https://localhost:8080/",
          "height": 320
        },
        "id": "rCPBnmAMPerg",
        "outputId": "7386137a-eebb-4acb-8f5c-b405e32ccb27"
      },
      "source": [
        "dnndstrain.describe()"
      ],
      "execution_count": null,
      "outputs": [
        {
          "output_type": "execute_result",
          "data": {
            "text/html": [
              "<div>\n",
              "<style scoped>\n",
              "    .dataframe tbody tr th:only-of-type {\n",
              "        vertical-align: middle;\n",
              "    }\n",
              "\n",
              "    .dataframe tbody tr th {\n",
              "        vertical-align: top;\n",
              "    }\n",
              "\n",
              "    .dataframe thead th {\n",
              "        text-align: right;\n",
              "    }\n",
              "</style>\n",
              "<table border=\"1\" class=\"dataframe\">\n",
              "  <thead>\n",
              "    <tr style=\"text-align: right;\">\n",
              "      <th></th>\n",
              "      <th>0</th>\n",
              "      <th>1</th>\n",
              "      <th>2</th>\n",
              "      <th>3</th>\n",
              "      <th>4</th>\n",
              "      <th>5</th>\n",
              "      <th>6</th>\n",
              "      <th>7</th>\n",
              "      <th>8</th>\n",
              "      <th>9</th>\n",
              "      <th>10</th>\n",
              "      <th>11</th>\n",
              "      <th>12</th>\n",
              "      <th>13</th>\n",
              "      <th>14</th>\n",
              "      <th>15</th>\n",
              "      <th>16</th>\n",
              "      <th>17</th>\n",
              "      <th>18</th>\n",
              "      <th>19</th>\n",
              "      <th>20</th>\n",
              "      <th>21</th>\n",
              "      <th>22</th>\n",
              "      <th>23</th>\n",
              "      <th>24</th>\n",
              "      <th>25</th>\n",
              "      <th>26</th>\n",
              "      <th>27</th>\n",
              "      <th>28</th>\n",
              "      <th>29</th>\n",
              "      <th>label</th>\n",
              "    </tr>\n",
              "  </thead>\n",
              "  <tbody>\n",
              "    <tr>\n",
              "      <th>count</th>\n",
              "      <td>11692.000000</td>\n",
              "      <td>11692.000000</td>\n",
              "      <td>11692.000000</td>\n",
              "      <td>11692.000000</td>\n",
              "      <td>11692.000000</td>\n",
              "      <td>11692.000000</td>\n",
              "      <td>11692.000000</td>\n",
              "      <td>11692.000000</td>\n",
              "      <td>11692.000000</td>\n",
              "      <td>11691.000000</td>\n",
              "      <td>11691.000000</td>\n",
              "      <td>11691.000000</td>\n",
              "      <td>11691.000000</td>\n",
              "      <td>11691.000000</td>\n",
              "      <td>11691.000000</td>\n",
              "      <td>11691.000000</td>\n",
              "      <td>11691.000000</td>\n",
              "      <td>11691.000000</td>\n",
              "      <td>11691.000000</td>\n",
              "      <td>11691.000000</td>\n",
              "      <td>11691.000000</td>\n",
              "      <td>11691.000000</td>\n",
              "      <td>11691.000000</td>\n",
              "      <td>11691.000000</td>\n",
              "      <td>11691.000000</td>\n",
              "      <td>11691.000000</td>\n",
              "      <td>11691.000000</td>\n",
              "      <td>11691.000000</td>\n",
              "      <td>11691.000000</td>\n",
              "      <td>11691.000000</td>\n",
              "      <td>11691.000000</td>\n",
              "    </tr>\n",
              "    <tr>\n",
              "      <th>mean</th>\n",
              "      <td>-44.924108</td>\n",
              "      <td>48.805083</td>\n",
              "      <td>81.412007</td>\n",
              "      <td>58.052431</td>\n",
              "      <td>-704.463777</td>\n",
              "      <td>-597.346577</td>\n",
              "      <td>-705.397546</td>\n",
              "      <td>2.383316</td>\n",
              "      <td>19.026052</td>\n",
              "      <td>158.746017</td>\n",
              "      <td>1.432021</td>\n",
              "      <td>-0.115009</td>\n",
              "      <td>-705.084476</td>\n",
              "      <td>39.024284</td>\n",
              "      <td>-0.024274</td>\n",
              "      <td>-0.014044</td>\n",
              "      <td>46.524729</td>\n",
              "      <td>-0.030140</td>\n",
              "      <td>0.053760</td>\n",
              "      <td>41.525093</td>\n",
              "      <td>0.004300</td>\n",
              "      <td>210.598302</td>\n",
              "      <td>0.984176</td>\n",
              "      <td>-346.569473</td>\n",
              "      <td>-397.525139</td>\n",
              "      <td>-397.513302</td>\n",
              "      <td>-688.243158</td>\n",
              "      <td>-705.238256</td>\n",
              "      <td>-705.232373</td>\n",
              "      <td>73.197006</td>\n",
              "      <td>0.351210</td>\n",
              "    </tr>\n",
              "    <tr>\n",
              "      <th>std</th>\n",
              "      <td>402.774595</td>\n",
              "      <td>35.216182</td>\n",
              "      <td>39.853124</td>\n",
              "      <td>63.185353</td>\n",
              "      <td>456.297458</td>\n",
              "      <td>656.438851</td>\n",
              "      <td>454.853993</td>\n",
              "      <td>0.783654</td>\n",
              "      <td>21.460925</td>\n",
              "      <td>114.808516</td>\n",
              "      <td>0.835828</td>\n",
              "      <td>1.195201</td>\n",
              "      <td>455.401163</td>\n",
              "      <td>23.761844</td>\n",
              "      <td>1.220084</td>\n",
              "      <td>1.816300</td>\n",
              "      <td>21.432180</td>\n",
              "      <td>1.273114</td>\n",
              "      <td>1.823279</td>\n",
              "      <td>31.829820</td>\n",
              "      <td>1.820981</td>\n",
              "      <td>125.312207</td>\n",
              "      <td>0.977684</td>\n",
              "      <td>532.427732</td>\n",
              "      <td>488.992454</td>\n",
              "      <td>489.002131</td>\n",
              "      <td>481.781550</td>\n",
              "      <td>455.164148</td>\n",
              "      <td>455.173024</td>\n",
              "      <td>96.616242</td>\n",
              "      <td>0.477369</td>\n",
              "    </tr>\n",
              "    <tr>\n",
              "      <th>min</th>\n",
              "      <td>-999.000000</td>\n",
              "      <td>0.009000</td>\n",
              "      <td>10.052000</td>\n",
              "      <td>0.000000</td>\n",
              "      <td>-999.000000</td>\n",
              "      <td>-999.000000</td>\n",
              "      <td>-999.000000</td>\n",
              "      <td>0.300000</td>\n",
              "      <td>0.000000</td>\n",
              "      <td>46.470000</td>\n",
              "      <td>0.047000</td>\n",
              "      <td>-1.414000</td>\n",
              "      <td>-999.000000</td>\n",
              "      <td>20.000000</td>\n",
              "      <td>-2.493000</td>\n",
              "      <td>-3.140000</td>\n",
              "      <td>26.002000</td>\n",
              "      <td>-2.475000</td>\n",
              "      <td>-3.141000</td>\n",
              "      <td>0.450000</td>\n",
              "      <td>-3.140000</td>\n",
              "      <td>17.931000</td>\n",
              "      <td>0.000000</td>\n",
              "      <td>-999.000000</td>\n",
              "      <td>-999.000000</td>\n",
              "      <td>-999.000000</td>\n",
              "      <td>-999.000000</td>\n",
              "      <td>-999.000000</td>\n",
              "      <td>-999.000000</td>\n",
              "      <td>0.000000</td>\n",
              "      <td>0.000000</td>\n",
              "    </tr>\n",
              "    <tr>\n",
              "      <th>25%</th>\n",
              "      <td>79.441000</td>\n",
              "      <td>18.761750</td>\n",
              "      <td>59.831500</td>\n",
              "      <td>14.769500</td>\n",
              "      <td>-999.000000</td>\n",
              "      <td>-999.000000</td>\n",
              "      <td>-999.000000</td>\n",
              "      <td>1.815000</td>\n",
              "      <td>2.898750</td>\n",
              "      <td>77.521500</td>\n",
              "      <td>0.881000</td>\n",
              "      <td>-1.369000</td>\n",
              "      <td>-999.000000</td>\n",
              "      <td>24.752000</td>\n",
              "      <td>-0.952000</td>\n",
              "      <td>-1.567500</td>\n",
              "      <td>32.346000</td>\n",
              "      <td>-1.014500</td>\n",
              "      <td>-1.512000</td>\n",
              "      <td>21.251500</td>\n",
              "      <td>-1.567500</td>\n",
              "      <td>124.250000</td>\n",
              "      <td>0.000000</td>\n",
              "      <td>-999.000000</td>\n",
              "      <td>-999.000000</td>\n",
              "      <td>-999.000000</td>\n",
              "      <td>-999.000000</td>\n",
              "      <td>-999.000000</td>\n",
              "      <td>-999.000000</td>\n",
              "      <td>0.000000</td>\n",
              "      <td>0.000000</td>\n",
              "    </tr>\n",
              "    <tr>\n",
              "      <th>50%</th>\n",
              "      <td>105.840000</td>\n",
              "      <td>45.864500</td>\n",
              "      <td>73.982000</td>\n",
              "      <td>38.253500</td>\n",
              "      <td>-999.000000</td>\n",
              "      <td>-999.000000</td>\n",
              "      <td>-999.000000</td>\n",
              "      <td>2.504500</td>\n",
              "      <td>12.466500</td>\n",
              "      <td>120.579000</td>\n",
              "      <td>1.279000</td>\n",
              "      <td>-0.290000</td>\n",
              "      <td>-999.000000</td>\n",
              "      <td>31.793000</td>\n",
              "      <td>-0.031000</td>\n",
              "      <td>-0.059000</td>\n",
              "      <td>40.453000</td>\n",
              "      <td>-0.080000</td>\n",
              "      <td>0.100000</td>\n",
              "      <td>34.578000</td>\n",
              "      <td>-0.009000</td>\n",
              "      <td>180.145000</td>\n",
              "      <td>1.000000</td>\n",
              "      <td>38.809000</td>\n",
              "      <td>-1.861000</td>\n",
              "      <td>-2.052000</td>\n",
              "      <td>-999.000000</td>\n",
              "      <td>-999.000000</td>\n",
              "      <td>-999.000000</td>\n",
              "      <td>40.359000</td>\n",
              "      <td>0.000000</td>\n",
              "    </tr>\n",
              "    <tr>\n",
              "      <th>75%</th>\n",
              "      <td>130.929250</td>\n",
              "      <td>73.339250</td>\n",
              "      <td>92.361250</td>\n",
              "      <td>79.144750</td>\n",
              "      <td>0.488250</td>\n",
              "      <td>84.575250</td>\n",
              "      <td>-4.280750</td>\n",
              "      <td>2.965000</td>\n",
              "      <td>27.608000</td>\n",
              "      <td>203.914000</td>\n",
              "      <td>1.763000</td>\n",
              "      <td>1.230000</td>\n",
              "      <td>0.000000</td>\n",
              "      <td>44.985500</td>\n",
              "      <td>0.898000</td>\n",
              "      <td>1.546000</td>\n",
              "      <td>53.331500</td>\n",
              "      <td>0.956500</td>\n",
              "      <td>1.648000</td>\n",
              "      <td>51.961500</td>\n",
              "      <td>1.575500</td>\n",
              "      <td>264.899500</td>\n",
              "      <td>2.000000</td>\n",
              "      <td>75.989500</td>\n",
              "      <td>0.409500</td>\n",
              "      <td>0.518500</td>\n",
              "      <td>34.039000</td>\n",
              "      <td>-2.373500</td>\n",
              "      <td>-2.247500</td>\n",
              "      <td>112.443500</td>\n",
              "      <td>1.000000</td>\n",
              "    </tr>\n",
              "    <tr>\n",
              "      <th>max</th>\n",
              "      <td>923.613000</td>\n",
              "      <td>542.328000</td>\n",
              "      <td>514.429000</td>\n",
              "      <td>590.895000</td>\n",
              "      <td>7.680000</td>\n",
              "      <td>2856.357000</td>\n",
              "      <td>14.324000</td>\n",
              "      <td>5.452000</td>\n",
              "      <td>234.461000</td>\n",
              "      <td>1282.523000</td>\n",
              "      <td>10.703000</td>\n",
              "      <td>1.414000</td>\n",
              "      <td>1.000000</td>\n",
              "      <td>622.862000</td>\n",
              "      <td>2.479000</td>\n",
              "      <td>3.141000</td>\n",
              "      <td>307.823000</td>\n",
              "      <td>2.490000</td>\n",
              "      <td>3.140000</td>\n",
              "      <td>458.884000</td>\n",
              "      <td>3.142000</td>\n",
              "      <td>1364.632000</td>\n",
              "      <td>3.000000</td>\n",
              "      <td>681.232000</td>\n",
              "      <td>4.440000</td>\n",
              "      <td>3.141000</td>\n",
              "      <td>358.701000</td>\n",
              "      <td>4.350000</td>\n",
              "      <td>3.139000</td>\n",
              "      <td>1039.932000</td>\n",
              "      <td>1.000000</td>\n",
              "    </tr>\n",
              "  </tbody>\n",
              "</table>\n",
              "</div>"
            ],
            "text/plain": [
              "                  0             1  ...            29         label\n",
              "count  11692.000000  11692.000000  ...  11691.000000  11691.000000\n",
              "mean     -44.924108     48.805083  ...     73.197006      0.351210\n",
              "std      402.774595     35.216182  ...     96.616242      0.477369\n",
              "min     -999.000000      0.009000  ...      0.000000      0.000000\n",
              "25%       79.441000     18.761750  ...      0.000000      0.000000\n",
              "50%      105.840000     45.864500  ...     40.359000      0.000000\n",
              "75%      130.929250     73.339250  ...    112.443500      1.000000\n",
              "max      923.613000    542.328000  ...   1039.932000      1.000000\n",
              "\n",
              "[8 rows x 31 columns]"
            ]
          },
          "metadata": {},
          "execution_count": 6
        }
      ]
    },
    {
      "cell_type": "markdown",
      "metadata": {
        "id": "Dboa-828PlOC"
      },
      "source": [
        "Correlación"
      ]
    },
    {
      "cell_type": "code",
      "metadata": {
        "colab": {
          "base_uri": "https://localhost:8080/",
          "height": 520
        },
        "id": "lHXLoIMKPiZf",
        "outputId": "c8a08603-1d86-4b50-808a-5fa38cd2dbd8"
      },
      "source": [
        "f, ax = plt.subplots(figsize=(10, 8))\n",
        "corr = dnndstrain.corr()\n",
        "sns.heatmap(corr, mask=np.zeros_like(corr, dtype=np.bool), cmap=sns.diverging_palette(220, 10, as_cmap=True),\n",
        "            square=True, ax=ax)"
      ],
      "execution_count": null,
      "outputs": [
        {
          "output_type": "execute_result",
          "data": {
            "text/plain": [
              "<matplotlib.axes._subplots.AxesSubplot at 0x7f17d7bda810>"
            ]
          },
          "metadata": {},
          "execution_count": 7
        },
        {
          "output_type": "display_data",
          "data": {
            "image/png": "[encoded data removed]",
            "text/plain": [
              "<Figure size 720x576 with 2 Axes>"
            ]
          },
          "metadata": {
            "needs_background": "light"
          }
        }
      ]
    },
    {
      "cell_type": "markdown",
      "metadata": {
        "id": "a9z0ZPbIPvDN"
      },
      "source": [
        "Selección de datos útiles"
      ]
    },
    {
      "cell_type": "code",
      "metadata": {
        "id": "K7cnZCZoPq_Q"
      },
      "source": [
        "# feature selection\n",
        "def select_features(X_train, y_train, X_test):\n",
        "    # configure to select all features\n",
        "    fs = SelectKBest(score_func=f_classif, k='all')\n",
        "    # learn relationship from training data\n",
        "    fs.fit(X_train, y_train)\n",
        "    # transform train input data\n",
        "    X_train_fs = fs.transform(X_train)\n",
        "    # transform test input data\n",
        "    X_test_fs = fs.transform(X_test)\n",
        "    return X_train_fs, X_test_fs, fs"
      ],
      "execution_count": null,
      "outputs": []
    },
    {
      "cell_type": "code",
      "metadata": {
        "colab": {
          "base_uri": "https://localhost:8080/"
        },
        "id": "k-W5OnWQPykY",
        "outputId": "b00e82d2-4dec-4bf3-db44-cd2e73c9018a"
      },
      "source": [
        "dnndstrain.label.value_counts()"
      ],
      "execution_count": null,
      "outputs": [
        {
          "output_type": "execute_result",
          "data": {
            "text/plain": [
              "0.0    7585\n",
              "1.0    4106\n",
              "Name: label, dtype: int64"
            ]
          },
          "metadata": {},
          "execution_count": 9
        }
      ]
    },
    {
      "cell_type": "code",
      "metadata": {
        "id": "Yt87oDAvP0Sr"
      },
      "source": [
        "X_train = dnndstrain"
      ],
      "execution_count": null,
      "outputs": []
    },
    {
      "cell_type": "code",
      "metadata": {
        "id": "fe95Ge8AP2A-"
      },
      "source": [
        "y_train = X_train.pop('label')"
      ],
      "execution_count": null,
      "outputs": []
    },
    {
      "cell_type": "code",
      "metadata": {
        "id": "zkHixBZLP3mT"
      },
      "source": [
        "X_test = dnndstest"
      ],
      "execution_count": null,
      "outputs": []
    },
    {
      "cell_type": "markdown",
      "metadata": {
        "id": "SztoGW9TP6dP"
      },
      "source": [
        "Visualización de datos"
      ]
    },
    {
      "cell_type": "code",
      "metadata": {
        "colab": {
          "base_uri": "https://localhost:8080/",
          "height": 419
        },
        "id": "n7ohPNFGP_HW",
        "outputId": "8e645d46-eeb3-43c8-cacc-a9cece1528aa"
      },
      "source": [
        "# feature selection\n",
        "X_train_fs, X_test_fs, fs = select_features(X_train, y_train, X_test)\n",
        "# what are scores for the features\n",
        "for i in range(len(fs.scores_)):\n",
        "    print('Feature %d: %f' % (i, fs.scores_[i]))\n",
        "# plot the scores\n",
        "plt.bar([i for i in range(len(fs.scores_))], fs.scores_)\n",
        "plt.show()"
      ],
      "execution_count": null,
      "outputs": [
        {
          "output_type": "error",
          "ename": "ValueError",
          "evalue": "ignored",
          "traceback": [
            "\u001b[0;31m---------------------------------------------------------------------------\u001b[0m",
            "\u001b[0;31mValueError\u001b[0m                                Traceback (most recent call last)",
            "\u001b[0;32m<ipython-input-16-46a0a86c73bd>\u001b[0m in \u001b[0;36m<module>\u001b[0;34m()\u001b[0m\n\u001b[1;32m      1\u001b[0m \u001b[0;31m# feature selection\u001b[0m\u001b[0;34m\u001b[0m\u001b[0;34m\u001b[0m\u001b[0;34m\u001b[0m\u001b[0m\n\u001b[0;32m----> 2\u001b[0;31m \u001b[0mX_train_fs\u001b[0m\u001b[0;34m,\u001b[0m \u001b[0mX_test_fs\u001b[0m\u001b[0;34m,\u001b[0m \u001b[0mfs\u001b[0m \u001b[0;34m=\u001b[0m \u001b[0mselect_features\u001b[0m\u001b[0;34m(\u001b[0m\u001b[0mX_train\u001b[0m\u001b[0;34m,\u001b[0m \u001b[0my_train\u001b[0m\u001b[0;34m,\u001b[0m \u001b[0mX_test\u001b[0m\u001b[0;34m)\u001b[0m\u001b[0;34m\u001b[0m\u001b[0;34m\u001b[0m\u001b[0m\n\u001b[0m\u001b[1;32m      3\u001b[0m \u001b[0;31m# what are scores for the features\u001b[0m\u001b[0;34m\u001b[0m\u001b[0;34m\u001b[0m\u001b[0;34m\u001b[0m\u001b[0m\n\u001b[1;32m      4\u001b[0m \u001b[0;32mfor\u001b[0m \u001b[0mi\u001b[0m \u001b[0;32min\u001b[0m \u001b[0mrange\u001b[0m\u001b[0;34m(\u001b[0m\u001b[0mlen\u001b[0m\u001b[0;34m(\u001b[0m\u001b[0mfs\u001b[0m\u001b[0;34m.\u001b[0m\u001b[0mscores_\u001b[0m\u001b[0;34m)\u001b[0m\u001b[0;34m)\u001b[0m\u001b[0;34m:\u001b[0m\u001b[0;34m\u001b[0m\u001b[0;34m\u001b[0m\u001b[0m\n\u001b[1;32m      5\u001b[0m     \u001b[0mprint\u001b[0m\u001b[0;34m(\u001b[0m\u001b[0;34m'Feature %d: %f'\u001b[0m \u001b[0;34m%\u001b[0m \u001b[0;34m(\u001b[0m\u001b[0mi\u001b[0m\u001b[0;34m,\u001b[0m \u001b[0mfs\u001b[0m\u001b[0;34m.\u001b[0m\u001b[0mscores_\u001b[0m\u001b[0;34m[\u001b[0m\u001b[0mi\u001b[0m\u001b[0;34m]\u001b[0m\u001b[0;34m)\u001b[0m\u001b[0;34m)\u001b[0m\u001b[0;34m\u001b[0m\u001b[0;34m\u001b[0m\u001b[0m\n",
            "\u001b[0;32m<ipython-input-8-c7fdcb54eaa4>\u001b[0m in \u001b[0;36mselect_features\u001b[0;34m(X_train, y_train, X_test)\u001b[0m\n\u001b[1;32m      4\u001b[0m     \u001b[0mfs\u001b[0m \u001b[0;34m=\u001b[0m \u001b[0mSelectKBest\u001b[0m\u001b[0;34m(\u001b[0m\u001b[0mscore_func\u001b[0m\u001b[0;34m=\u001b[0m\u001b[0mf_classif\u001b[0m\u001b[0;34m,\u001b[0m \u001b[0mk\u001b[0m\u001b[0;34m=\u001b[0m\u001b[0;34m'all'\u001b[0m\u001b[0;34m)\u001b[0m\u001b[0;34m\u001b[0m\u001b[0;34m\u001b[0m\u001b[0m\n\u001b[1;32m      5\u001b[0m     \u001b[0;31m# learn relationship from training data\u001b[0m\u001b[0;34m\u001b[0m\u001b[0;34m\u001b[0m\u001b[0;34m\u001b[0m\u001b[0m\n\u001b[0;32m----> 6\u001b[0;31m     \u001b[0mfs\u001b[0m\u001b[0;34m.\u001b[0m\u001b[0mfit\u001b[0m\u001b[0;34m(\u001b[0m\u001b[0mX_train\u001b[0m\u001b[0;34m,\u001b[0m \u001b[0my_train\u001b[0m\u001b[0;34m)\u001b[0m\u001b[0;34m\u001b[0m\u001b[0;34m\u001b[0m\u001b[0m\n\u001b[0m\u001b[1;32m      7\u001b[0m     \u001b[0;31m# transform train input data\u001b[0m\u001b[0;34m\u001b[0m\u001b[0;34m\u001b[0m\u001b[0;34m\u001b[0m\u001b[0m\n\u001b[1;32m      8\u001b[0m     \u001b[0mX_train_fs\u001b[0m \u001b[0;34m=\u001b[0m \u001b[0mfs\u001b[0m\u001b[0;34m.\u001b[0m\u001b[0mtransform\u001b[0m\u001b[0;34m(\u001b[0m\u001b[0mX_train\u001b[0m\u001b[0;34m)\u001b[0m\u001b[0;34m\u001b[0m\u001b[0;34m\u001b[0m\u001b[0m\n",
            "\u001b[0;32m/usr/local/lib/python3.7/dist-packages/sklearn/feature_selection/_univariate_selection.py\u001b[0m in \u001b[0;36mfit\u001b[0;34m(self, X, y)\u001b[0m\n\u001b[1;32m    339\u001b[0m         \u001b[0mself\u001b[0m \u001b[0;34m:\u001b[0m \u001b[0mobject\u001b[0m\u001b[0;34m\u001b[0m\u001b[0;34m\u001b[0m\u001b[0m\n\u001b[1;32m    340\u001b[0m         \"\"\"\n\u001b[0;32m--> 341\u001b[0;31m         \u001b[0mX\u001b[0m\u001b[0;34m,\u001b[0m \u001b[0my\u001b[0m \u001b[0;34m=\u001b[0m \u001b[0mcheck_X_y\u001b[0m\u001b[0;34m(\u001b[0m\u001b[0mX\u001b[0m\u001b[0;34m,\u001b[0m \u001b[0my\u001b[0m\u001b[0;34m,\u001b[0m \u001b[0;34m[\u001b[0m\u001b[0;34m'csr'\u001b[0m\u001b[0;34m,\u001b[0m \u001b[0;34m'csc'\u001b[0m\u001b[0;34m]\u001b[0m\u001b[0;34m,\u001b[0m \u001b[0mmulti_output\u001b[0m\u001b[0;34m=\u001b[0m\u001b[0;32mTrue\u001b[0m\u001b[0;34m)\u001b[0m\u001b[0;34m\u001b[0m\u001b[0;34m\u001b[0m\u001b[0m\n\u001b[0m\u001b[1;32m    342\u001b[0m \u001b[0;34m\u001b[0m\u001b[0m\n\u001b[1;32m    343\u001b[0m         \u001b[0;32mif\u001b[0m \u001b[0;32mnot\u001b[0m \u001b[0mcallable\u001b[0m\u001b[0;34m(\u001b[0m\u001b[0mself\u001b[0m\u001b[0;34m.\u001b[0m\u001b[0mscore_func\u001b[0m\u001b[0;34m)\u001b[0m\u001b[0;34m:\u001b[0m\u001b[0;34m\u001b[0m\u001b[0;34m\u001b[0m\u001b[0m\n",
            "\u001b[0;32m/usr/local/lib/python3.7/dist-packages/sklearn/utils/validation.py\u001b[0m in \u001b[0;36mcheck_X_y\u001b[0;34m(X, y, accept_sparse, accept_large_sparse, dtype, order, copy, force_all_finite, ensure_2d, allow_nd, multi_output, ensure_min_samples, ensure_min_features, y_numeric, warn_on_dtype, estimator)\u001b[0m\n\u001b[1;32m    753\u001b[0m                     \u001b[0mensure_min_features\u001b[0m\u001b[0;34m=\u001b[0m\u001b[0mensure_min_features\u001b[0m\u001b[0;34m,\u001b[0m\u001b[0;34m\u001b[0m\u001b[0;34m\u001b[0m\u001b[0m\n\u001b[1;32m    754\u001b[0m                     \u001b[0mwarn_on_dtype\u001b[0m\u001b[0;34m=\u001b[0m\u001b[0mwarn_on_dtype\u001b[0m\u001b[0;34m,\u001b[0m\u001b[0;34m\u001b[0m\u001b[0;34m\u001b[0m\u001b[0m\n\u001b[0;32m--> 755\u001b[0;31m                     estimator=estimator)\n\u001b[0m\u001b[1;32m    756\u001b[0m     \u001b[0;32mif\u001b[0m \u001b[0mmulti_output\u001b[0m\u001b[0;34m:\u001b[0m\u001b[0;34m\u001b[0m\u001b[0;34m\u001b[0m\u001b[0m\n\u001b[1;32m    757\u001b[0m         y = check_array(y, 'csr', force_all_finite=True, ensure_2d=False,\n",
            "\u001b[0;32m/usr/local/lib/python3.7/dist-packages/sklearn/utils/validation.py\u001b[0m in \u001b[0;36mcheck_array\u001b[0;34m(array, accept_sparse, accept_large_sparse, dtype, order, copy, force_all_finite, ensure_2d, allow_nd, ensure_min_samples, ensure_min_features, warn_on_dtype, estimator)\u001b[0m\n\u001b[1;32m    576\u001b[0m         \u001b[0;32mif\u001b[0m \u001b[0mforce_all_finite\u001b[0m\u001b[0;34m:\u001b[0m\u001b[0;34m\u001b[0m\u001b[0;34m\u001b[0m\u001b[0m\n\u001b[1;32m    577\u001b[0m             _assert_all_finite(array,\n\u001b[0;32m--> 578\u001b[0;31m                                allow_nan=force_all_finite == 'allow-nan')\n\u001b[0m\u001b[1;32m    579\u001b[0m \u001b[0;34m\u001b[0m\u001b[0m\n\u001b[1;32m    580\u001b[0m     \u001b[0;32mif\u001b[0m \u001b[0mensure_min_samples\u001b[0m \u001b[0;34m>\u001b[0m \u001b[0;36m0\u001b[0m\u001b[0;34m:\u001b[0m\u001b[0;34m\u001b[0m\u001b[0;34m\u001b[0m\u001b[0m\n",
            "\u001b[0;32m/usr/local/lib/python3.7/dist-packages/sklearn/utils/validation.py\u001b[0m in \u001b[0;36m_assert_all_finite\u001b[0;34m(X, allow_nan, msg_dtype)\u001b[0m\n\u001b[1;32m     58\u001b[0m                     \u001b[0mmsg_err\u001b[0m\u001b[0;34m.\u001b[0m\u001b[0mformat\u001b[0m\u001b[0;34m\u001b[0m\u001b[0;34m\u001b[0m\u001b[0m\n\u001b[1;32m     59\u001b[0m                     (type_err,\n\u001b[0;32m---> 60\u001b[0;31m                      msg_dtype if msg_dtype is not None else X.dtype)\n\u001b[0m\u001b[1;32m     61\u001b[0m             )\n\u001b[1;32m     62\u001b[0m     \u001b[0;31m# for object dtype data, we only check for NaNs (GH-13254)\u001b[0m\u001b[0;34m\u001b[0m\u001b[0;34m\u001b[0m\u001b[0;34m\u001b[0m\u001b[0m\n",
            "\u001b[0;31mValueError\u001b[0m: Input contains NaN, infinity or a value too large for dtype('float64')."
          ]
        }
      ]
    },
    {
      "cell_type": "markdown",
      "metadata": {
        "id": "W7hEH538QA3G"
      },
      "source": [
        "Limpieza de valores no importantes (columnas)"
      ]
    },
    {
      "cell_type": "code",
      "metadata": {
        "id": "2mKEbo9TQGf7"
      },
      "source": [
        "dropFeatures=['2','7','8','14','15','16','17','18','19']"
      ],
      "execution_count": null,
      "outputs": []
    },
    {
      "cell_type": "code",
      "metadata": {
        "id": "y0kZ3E4nQHoO"
      },
      "source": [
        "X_train.drop(dropFeatures,axis=1,inplace=True)"
      ],
      "execution_count": null,
      "outputs": []
    },
    {
      "cell_type": "code",
      "metadata": {
        "id": "GeG3B6s4QJ4o"
      },
      "source": [
        "X_test.drop(dropFeatures,axis=1,inplace=True)"
      ],
      "execution_count": null,
      "outputs": []
    },
    {
      "cell_type": "markdown",
      "metadata": {
        "id": "FWPkn4FDQLZ3"
      },
      "source": [
        "Escalado de datos para tener valores en el mismo rango"
      ]
    },
    {
      "cell_type": "code",
      "metadata": {
        "id": "J12UgkiRQQlp"
      },
      "source": [
        "mmscaler = MinMaxScaler()"
      ],
      "execution_count": null,
      "outputs": []
    },
    {
      "cell_type": "code",
      "metadata": {
        "id": "I-JZXmj-QT-1"
      },
      "source": [
        "X_train = mmscaler.fit_transform(X_train)"
      ],
      "execution_count": null,
      "outputs": []
    },
    {
      "cell_type": "code",
      "metadata": {
        "id": "gWfENW9KQXsV"
      },
      "source": [
        "seed = 1000\n",
        "X_train, X_val, y_train, y_val = train_test_split(X_train, y_train, train_size=0.8,\n",
        "                                                  random_state=seed)"
      ],
      "execution_count": null,
      "outputs": []
    },
    {
      "cell_type": "code",
      "metadata": {
        "id": "KjgpIrZbQd7l"
      },
      "source": [
        "X_test = mmscaler.fit_transform(X_test)"
      ],
      "execution_count": null,
      "outputs": []
    },
    {
      "cell_type": "markdown",
      "metadata": {
        "id": "NuTGzg4LQe41"
      },
      "source": [
        "Desarrollo del modelo"
      ]
    },
    {
      "cell_type": "code",
      "metadata": {
        "id": "fxEkRQZHQhgi"
      },
      "source": [
        "# Creating a Sequential Model and adding the layers\n",
        "model = Sequential()\n",
        "model.add(tf.keras.Input(shape=(21,)))\n",
        "model.add(tf.keras.layers.Dense(64, activation='relu'))\n",
        "model.add(tf.keras.layers.Dense(64, activation='relu'))\n",
        "model.add(Dense(2,activation=tf.nn.softmax))\n",
        "model.output_shape"
      ],
      "execution_count": null,
      "outputs": []
    },
    {
      "cell_type": "markdown",
      "metadata": {
        "id": "-Qq-pV0ZQkd9"
      },
      "source": [
        "Optimización con Adam"
      ]
    },
    {
      "cell_type": "code",
      "metadata": {
        "id": "CesvtejIQpg7"
      },
      "source": [
        "initial_learning_rate = 0.001\n",
        "lr_schedule = tf.keras.optimizers.schedules.ExponentialDecay(\n",
        "    initial_learning_rate,\n",
        "    decay_steps=90000,\n",
        "    decay_rate=0.8,\n",
        "    staircase=True)\n",
        "\n",
        "opt = tf.keras.optimizers.Adam(\n",
        "    learning_rate=lr_schedule,\n",
        "    beta_1=0.9,\n",
        "    beta_2=0.999,\n",
        "    epsilon=1e-07,\n",
        "    amsgrad=False,\n",
        "    name=\"Adam\",\n",
        ")"
      ],
      "execution_count": null,
      "outputs": []
    },
    {
      "cell_type": "markdown",
      "metadata": {
        "id": "ZlojJBINQrAL"
      },
      "source": [
        "Entrenamiento (100 épocas)"
      ]
    },
    {
      "cell_type": "code",
      "metadata": {
        "id": "G0KduNIdQtbF"
      },
      "source": [
        "nepochs = 100\n",
        "model.compile(optimizer=opt, \n",
        "              loss='sparse_categorical_crossentropy', \n",
        "              metrics=['accuracy'])\n",
        "history = model.fit(x=X_train, y=y_train, epochs=nepochs, batch_size=4, validation_data=(X_val,y_val))"
      ],
      "execution_count": null,
      "outputs": []
    },
    {
      "cell_type": "markdown",
      "metadata": {
        "id": "0SzLIpi-Q2KK"
      },
      "source": [
        "Análisis de desempeño del entrenamiento"
      ]
    },
    {
      "cell_type": "code",
      "metadata": {
        "id": "CIPRHnUNQ5WY"
      },
      "source": [
        "def plot_history(history):\n",
        "    loss_list = [s for s in history.history.keys() if 'loss' in s and 'val' not in s]\n",
        "    val_loss_list = [s for s in history.history.keys() if 'loss' in s and 'val' in s]\n",
        "    acc_list = [s for s in history.history.keys() if 'acc' in s and 'val' not in s]\n",
        "    val_acc_list = [s for s in history.history.keys() if 'acc' in s and 'val' in s]\n",
        "    \n",
        "    if len(loss_list) == 0:\n",
        "        print('Loss is missing in history')\n",
        "        return \n",
        "    \n",
        "    ## As loss always exists\n",
        "    epochs = range(1,len(history.history[loss_list[0]]) + 1)\n",
        "    \n",
        "    ## Loss\n",
        "    plt.figure(1)\n",
        "    for l in loss_list:\n",
        "        plt.plot(epochs, history.history[l], 'b', label='Training loss (' + str(str(format(history.history[l][-1],'.5f'))+')'))\n",
        "    for l in val_loss_list:\n",
        "        plt.plot(epochs, history.history[l], 'g', label='Validation loss (' + str(str(format(history.history[l][-1],'.5f'))+')'))\n",
        "    \n",
        "    plt.title('Loss')\n",
        "    plt.xlabel('Epochs')\n",
        "    plt.ylabel('Loss')\n",
        "    plt.legend()\n",
        "    \n",
        "    ## Accuracy\n",
        "    plt.figure(2)\n",
        "    for l in acc_list:\n",
        "        plt.plot(epochs, history.history[l], 'b', label='Training accuracy (' + str(format(history.history[l][-1],'.5f'))+')')\n",
        "    for l in val_acc_list:    \n",
        "        plt.plot(epochs, history.history[l], 'g', label='Validation accuracy (' + str(format(history.history[l][-1],'.5f'))+')')\n",
        "\n",
        "    plt.title('Accuracy')\n",
        "    plt.xlabel('Epochs')\n",
        "    plt.ylabel('Accuracy')\n",
        "    plt.legend()\n",
        "    plt.show()"
      ],
      "execution_count": null,
      "outputs": []
    },
    {
      "cell_type": "code",
      "metadata": {
        "id": "3tDnGSrqQ9S1"
      },
      "source": [
        "plot_history(history)"
      ],
      "execution_count": null,
      "outputs": []
    },
    {
      "cell_type": "markdown",
      "metadata": {
        "id": "T7saR3z7REHy"
      },
      "source": [
        "Análisis por Matriz de confusión"
      ]
    },
    {
      "cell_type": "code",
      "metadata": {
        "id": "LGiLAIcXRH8F"
      },
      "source": [
        "yhat = model.predict(X_val)\n",
        "yhatm = np.argmax(yhat,axis=1)\n",
        "cm = confusion_matrix(y_val, np.rint(yhatm))"
      ],
      "execution_count": null,
      "outputs": []
    },
    {
      "cell_type": "code",
      "metadata": {
        "id": "uRbbp-r_RLgL"
      },
      "source": [
        "df_cm = pd.DataFrame(cm, columns=np.unique(y_val), index = np.unique(y_val))\n",
        "df_cm.index.name = 'Actual'\n",
        "df_cm.columns.name = 'Predicted'\n",
        "plt.figure(figsize = (10,7))\n",
        "sns.set(font_scale=1.4)#for label size\n",
        "sns.heatmap(df_cm, cmap=\"Blues\", annot=True, fmt='d', annot_kws={\"size\": 16})# font size"
      ],
      "execution_count": null,
      "outputs": []
    },
    {
      "cell_type": "markdown",
      "metadata": {
        "id": "aqgFD8EqREM0"
      },
      "source": [
        "Error"
      ]
    },
    {
      "cell_type": "code",
      "metadata": {
        "id": "unl6AzF_RUSe"
      },
      "source": [
        "rights = df_cm.iloc[0,0] + df_cm.iloc[1,1]\n",
        "wrongs = df_cm.iloc[0,1] + df_cm.iloc[1,0]\n",
        "print (wrongs/(rights+wrongs))"
      ],
      "execution_count": null,
      "outputs": []
    },
    {
      "cell_type": "markdown",
      "metadata": {
        "id": "Nj4sZc6uRV-C"
      },
      "source": [
        "Predicciones"
      ]
    },
    {
      "cell_type": "code",
      "metadata": {
        "id": "D2dOnMq-RY6r"
      },
      "source": [
        "ypred = model.predict(X_test)"
      ],
      "execution_count": null,
      "outputs": []
    },
    {
      "cell_type": "code",
      "metadata": {
        "id": "XaJAp6r6Rakq"
      },
      "source": [
        "ypredm = np.argmax(ypred,axis=1)"
      ],
      "execution_count": null,
      "outputs": []
    },
    {
      "cell_type": "markdown",
      "metadata": {
        "id": "m9lxbOz0RiDn"
      },
      "source": [
        "Se guarda el modelo para su uso posterior con otros datos"
      ]
    },
    {
      "cell_type": "code",
      "metadata": {
        "id": "mYlj8O9zRhoI"
      },
      "source": [
        "model.save('/kaggle/working/HCDenseNNKaggle.model')"
      ],
      "execution_count": null,
      "outputs": []
    },
    {
      "cell_type": "markdown",
      "metadata": {
        "id": "bBeiALUoRq5W"
      },
      "source": [
        "Se guardan las predicciones en un dataset para su uso posterior"
      ]
    },
    {
      "cell_type": "code",
      "metadata": {
        "id": "RwURjCRYRxRS"
      },
      "source": [
        "p0=ypred[:,0]\n",
        "p1=ypred[:,1]"
      ],
      "execution_count": null,
      "outputs": []
    },
    {
      "cell_type": "code",
      "metadata": {
        "id": "wDWqZ-FnRyet"
      },
      "source": [
        "ypredp0df = pd.Series(p0.tolist())\n",
        "ypredp1df = pd.Series(p1.tolist())\n",
        "ypredmdf = pd.Series(ypredm.tolist())"
      ],
      "execution_count": null,
      "outputs": []
    },
    {
      "cell_type": "code",
      "metadata": {
        "id": "SVK5W0WgR1BN"
      },
      "source": [
        "ypreddf = pd.DataFrame ()\n",
        "ypreddf = pd.concat([ypredp0df,ypredp1df,ypredmdf],axis=1)"
      ],
      "execution_count": null,
      "outputs": []
    },
    {
      "cell_type": "code",
      "metadata": {
        "id": "COK8oFISR2s-"
      },
      "source": [
        "ypreddf.set_axis(['prob0','prob1','class'],axis=1, inplace=True)"
      ],
      "execution_count": null,
      "outputs": []
    },
    {
      "cell_type": "code",
      "metadata": {
        "id": "t8Hd3lOoR4uW"
      },
      "source": [
        "ypreddf.to_csv('/kaggle/working/HCDenseNNKagglePredictions.csv')"
      ],
      "execution_count": null,
      "outputs": []
    }
  ]
}