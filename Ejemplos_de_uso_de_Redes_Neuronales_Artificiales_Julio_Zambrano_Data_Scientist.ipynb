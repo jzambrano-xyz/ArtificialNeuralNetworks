{
  "nbformat": 4,
  "nbformat_minor": 0,
  "metadata": {
    "colab": {
      "name": "Ejemplos de uso de Redes Neuronales Artificiales - Julio Zambrano - Data Scientist",
      "provenance": [],
      "collapsed_sections": [
        "a7s21aVWAO1b",
        "su8t2bLY3mJs",
        "HOSRv76lbQYR"
      ],
      "authorship_tag": "ABX9TyP4U4DiSEOBZc+VfS79/YsJ",
      "include_colab_link": true
    },
    "kernelspec": {
      "name": "python3",
      "display_name": "Python 3"
    },
    "language_info": {
      "name": "python"
    }
  },
  "cells": [
    {
      "cell_type": "markdown",
      "metadata": {
        "id": "view-in-github",
        "colab_type": "text"
      },
      "source": [
        "<a href=\"https://colab.research.google.com/github/jzambrano-xyz/ArtificialNeuralNetworks/blob/main/Ejemplos_de_uso_de_Redes_Neuronales_Artificiales_Julio_Zambrano_Data_Scientist.ipynb\" target=\"_parent\"><img src=\"https://colab.research.google.com/assets/colab-badge.svg\" alt=\"Open In Colab\"/></a>"
      ]
    },
    {
      "cell_type": "markdown",
      "metadata": {
        "id": "a7s21aVWAO1b"
      },
      "source": [
        "# **Clasificación**"
      ]
    },
    {
      "cell_type": "markdown",
      "metadata": {
        "id": "su8t2bLY3mJs"
      },
      "source": [
        "# Wine recognition dataset"
      ]
    },
    {
      "cell_type": "markdown",
      "metadata": {
        "id": "stsC2PmGBMZm"
      },
      "source": [
        "**Planteamiento:**\n",
        "\n",
        "El objetivo de este conjunto de datos es ofrecer tres conjuntos de datos de vino (*178 muestras en total*), con la intención de clasificarlos por **calidad** de acuerdo con sus características.\n",
        "\n",
        "***Clasificación multiclase***\n",
        "\n",
        "![](https://images.unsplash.com/photo-1568213816046-0ee1c42bd559?ixlib=rb-1.2.1&ixid=MnwxMjA3fDB8MHxwaG90by1wYWdlfHx8fGVufDB8fHx8&auto=format&fit=crop&w=872&q=80)"
      ]
    },
    {
      "cell_type": "markdown",
      "metadata": {
        "id": "uy1Q6bUIE87f"
      },
      "source": [
        "**Metodología de solución**\n",
        "\n",
        "Al ser un problema de clasificación multiclase, es necesario:\n",
        "\n",
        "\n",
        "1.   Importar el conjunto de datos y las librerías de manipulación numérica, normalización y visualización necesarias.\n",
        "2. Identificar el Target (variables a clasificar,  **y**) a partir de los demás datos del set de datos (**X**).\n",
        "\n",
        "3. Crear un conjunto de pruebas y otro de entrenamiento con los datos de **X** e **y**.\n",
        "\n",
        "4. Normalización de datos.\n",
        "\n",
        "5. Definir el modelo de red neuronal y entrenarlo con los datos de entrenamiento.\n",
        "\n",
        "6. Retar al modelo vs. los datos de prueba y obtener métricas de evaluación.\n",
        "\n",
        "7. Generar un gráfico que soporte efectividad de la clasificación.\n",
        "\n"
      ]
    },
    {
      "cell_type": "markdown",
      "metadata": {
        "id": "5E8Jb9dLIld-"
      },
      "source": [
        "**1. Datos y librerías necesarias**"
      ]
    },
    {
      "cell_type": "code",
      "metadata": {
        "id": "4RYntAwA3nvM"
      },
      "source": [
        "#Conjunto de datos\n",
        "from sklearn.datasets import load_wine\n",
        "#Red neuronal clasificadora\n",
        "from sklearn.neural_network import MLPClassifier\n",
        "#Herramienta para crear conjuntos de prueba y entrenamiento\n",
        "from sklearn.model_selection import train_test_split\n",
        "#Escalador de datos\n",
        "from sklearn.preprocessing import StandardScaler\n",
        "#Manipulación numérica\n",
        "import pandas as pd\n",
        "#Gráficos para visualización de resultados\n",
        "from sklearn.metrics import plot_confusion_matrix\n",
        "import matplotlib.pyplot as plt"
      ],
      "execution_count": null,
      "outputs": []
    },
    {
      "cell_type": "markdown",
      "metadata": {
        "id": "-VvHgrcbIuN9"
      },
      "source": [
        "**2. Identificar variables a clasificar (*Target*), en este caso, las clases de vino (0, 1 y 2)**"
      ]
    },
    {
      "cell_type": "code",
      "metadata": {
        "id": "X1F7wJrf3taL",
        "colab": {
          "base_uri": "https://localhost:8080/"
        },
        "outputId": "68574c49-b412-4096-b671-03e64c01468a"
      },
      "source": [
        "#Carga del dataset en una variable local para su descripción\n",
        "wine_data = load_wine()\n",
        "#Al describir el dataset es posible identificar el Target\n",
        "wine_data"
      ],
      "execution_count": null,
      "outputs": [
        {
          "output_type": "execute_result",
          "data": {
            "text/plain": [
              "{'DESCR': '.. _wine_dataset:\\n\\nWine recognition dataset\\n------------------------\\n\\n**Data Set Characteristics:**\\n\\n    :Number of Instances: 178 (50 in each of three classes)\\n    :Number of Attributes: 13 numeric, predictive attributes and the class\\n    :Attribute Information:\\n \\t\\t- Alcohol\\n \\t\\t- Malic acid\\n \\t\\t- Ash\\n\\t\\t- Alcalinity of ash  \\n \\t\\t- Magnesium\\n\\t\\t- Total phenols\\n \\t\\t- Flavanoids\\n \\t\\t- Nonflavanoid phenols\\n \\t\\t- Proanthocyanins\\n\\t\\t- Color intensity\\n \\t\\t- Hue\\n \\t\\t- OD280/OD315 of diluted wines\\n \\t\\t- Proline\\n\\n    - class:\\n            - class_0\\n            - class_1\\n            - class_2\\n\\t\\t\\n    :Summary Statistics:\\n    \\n    ============================= ==== ===== ======= =====\\n                                   Min   Max   Mean     SD\\n    ============================= ==== ===== ======= =====\\n    Alcohol:                      11.0  14.8    13.0   0.8\\n    Malic Acid:                   0.74  5.80    2.34  1.12\\n    Ash:                          1.36  3.23    2.36  0.27\\n    Alcalinity of Ash:            10.6  30.0    19.5   3.3\\n    Magnesium:                    70.0 162.0    99.7  14.3\\n    Total Phenols:                0.98  3.88    2.29  0.63\\n    Flavanoids:                   0.34  5.08    2.03  1.00\\n    Nonflavanoid Phenols:         0.13  0.66    0.36  0.12\\n    Proanthocyanins:              0.41  3.58    1.59  0.57\\n    Colour Intensity:              1.3  13.0     5.1   2.3\\n    Hue:                          0.48  1.71    0.96  0.23\\n    OD280/OD315 of diluted wines: 1.27  4.00    2.61  0.71\\n    Proline:                       278  1680     746   315\\n    ============================= ==== ===== ======= =====\\n\\n    :Missing Attribute Values: None\\n    :Class Distribution: class_0 (59), class_1 (71), class_2 (48)\\n    :Creator: R.A. Fisher\\n    :Donor: Michael Marshall (MARSHALL%PLU@io.arc.nasa.gov)\\n    :Date: July, 1988\\n\\nThis is a copy of UCI ML Wine recognition datasets.\\nhttps://archive.ics.uci.edu/ml/machine-learning-databases/wine/wine.data\\n\\nThe data is the results of a chemical analysis of wines grown in the same\\nregion in Italy by three different cultivators. There are thirteen different\\nmeasurements taken for different constituents found in the three types of\\nwine.\\n\\nOriginal Owners: \\n\\nForina, M. et al, PARVUS - \\nAn Extendible Package for Data Exploration, Classification and Correlation. \\nInstitute of Pharmaceutical and Food Analysis and Technologies,\\nVia Brigata Salerno, 16147 Genoa, Italy.\\n\\nCitation:\\n\\nLichman, M. (2013). UCI Machine Learning Repository\\n[https://archive.ics.uci.edu/ml]. Irvine, CA: University of California,\\nSchool of Information and Computer Science. \\n\\n.. topic:: References\\n\\n  (1) S. Aeberhard, D. Coomans and O. de Vel, \\n  Comparison of Classifiers in High Dimensional Settings, \\n  Tech. Rep. no. 92-02, (1992), Dept. of Computer Science and Dept. of  \\n  Mathematics and Statistics, James Cook University of North Queensland. \\n  (Also submitted to Technometrics). \\n\\n  The data was used with many others for comparing various \\n  classifiers. The classes are separable, though only RDA \\n  has achieved 100% correct classification. \\n  (RDA : 100%, QDA 99.4%, LDA 98.9%, 1NN 96.1% (z-transformed data)) \\n  (All results using the leave-one-out technique) \\n\\n  (2) S. Aeberhard, D. Coomans and O. de Vel, \\n  \"THE CLASSIFICATION PERFORMANCE OF RDA\" \\n  Tech. Rep. no. 92-01, (1992), Dept. of Computer Science and Dept. of \\n  Mathematics and Statistics, James Cook University of North Queensland. \\n  (Also submitted to Journal of Chemometrics).\\n',\n",
              " 'data': array([[1.423e+01, 1.710e+00, 2.430e+00, ..., 1.040e+00, 3.920e+00,\n",
              "         1.065e+03],\n",
              "        [1.320e+01, 1.780e+00, 2.140e+00, ..., 1.050e+00, 3.400e+00,\n",
              "         1.050e+03],\n",
              "        [1.316e+01, 2.360e+00, 2.670e+00, ..., 1.030e+00, 3.170e+00,\n",
              "         1.185e+03],\n",
              "        ...,\n",
              "        [1.327e+01, 4.280e+00, 2.260e+00, ..., 5.900e-01, 1.560e+00,\n",
              "         8.350e+02],\n",
              "        [1.317e+01, 2.590e+00, 2.370e+00, ..., 6.000e-01, 1.620e+00,\n",
              "         8.400e+02],\n",
              "        [1.413e+01, 4.100e+00, 2.740e+00, ..., 6.100e-01, 1.600e+00,\n",
              "         5.600e+02]]),\n",
              " 'feature_names': ['alcohol',\n",
              "  'malic_acid',\n",
              "  'ash',\n",
              "  'alcalinity_of_ash',\n",
              "  'magnesium',\n",
              "  'total_phenols',\n",
              "  'flavanoids',\n",
              "  'nonflavanoid_phenols',\n",
              "  'proanthocyanins',\n",
              "  'color_intensity',\n",
              "  'hue',\n",
              "  'od280/od315_of_diluted_wines',\n",
              "  'proline'],\n",
              " 'frame': None,\n",
              " 'target': array([0, 0, 0, 0, 0, 0, 0, 0, 0, 0, 0, 0, 0, 0, 0, 0, 0, 0, 0, 0, 0, 0,\n",
              "        0, 0, 0, 0, 0, 0, 0, 0, 0, 0, 0, 0, 0, 0, 0, 0, 0, 0, 0, 0, 0, 0,\n",
              "        0, 0, 0, 0, 0, 0, 0, 0, 0, 0, 0, 0, 0, 0, 0, 1, 1, 1, 1, 1, 1, 1,\n",
              "        1, 1, 1, 1, 1, 1, 1, 1, 1, 1, 1, 1, 1, 1, 1, 1, 1, 1, 1, 1, 1, 1,\n",
              "        1, 1, 1, 1, 1, 1, 1, 1, 1, 1, 1, 1, 1, 1, 1, 1, 1, 1, 1, 1, 1, 1,\n",
              "        1, 1, 1, 1, 1, 1, 1, 1, 1, 1, 1, 1, 1, 1, 1, 1, 1, 1, 1, 1, 2, 2,\n",
              "        2, 2, 2, 2, 2, 2, 2, 2, 2, 2, 2, 2, 2, 2, 2, 2, 2, 2, 2, 2, 2, 2,\n",
              "        2, 2, 2, 2, 2, 2, 2, 2, 2, 2, 2, 2, 2, 2, 2, 2, 2, 2, 2, 2, 2, 2,\n",
              "        2, 2]),\n",
              " 'target_names': array(['class_0', 'class_1', 'class_2'], dtype='<U7')}"
            ]
          },
          "metadata": {},
          "execution_count": 2
        }
      ]
    },
    {
      "cell_type": "code",
      "metadata": {
        "id": "bgF93jR6KW04"
      },
      "source": [
        "#Pandas convierte los datos a un Dataframe para su manipulación numérica,\n",
        "#se piden todos los datos del dataset, con las columnas descriptivas\n",
        "X = pd.DataFrame(wine_data.data, columns=wine_data.feature_names)\n",
        "#Se guardan en y los datos a clasificar (Target)\n",
        "y = wine_data.target"
      ],
      "execution_count": null,
      "outputs": []
    },
    {
      "cell_type": "markdown",
      "metadata": {
        "id": "sCW9pY4_J5JC"
      },
      "source": [
        "**3. Generación de conjuntos de prueba y entrenamiento**"
      ]
    },
    {
      "cell_type": "code",
      "metadata": {
        "id": "ZH_DDYKa3wiP"
      },
      "source": [
        "#random_state indica a partir de qué dato se comenzará la aleatoriedad\n",
        "#test_size indica la proporción de datos a utilizar en el conjunto de prueba\n",
        "X_train, X_test, y_train, y_test = train_test_split(X,y,random_state=1, test_size=0.2)"
      ],
      "execution_count": null,
      "outputs": []
    },
    {
      "cell_type": "markdown",
      "metadata": {
        "id": "reD9Jyz8M_hW"
      },
      "source": [
        "**4. Escalamiento de datos para su normalización**"
      ]
    },
    {
      "cell_type": "code",
      "metadata": {
        "id": "xPLW78TJNBNH"
      },
      "source": [
        "sc_X = StandardScaler()\n",
        "X_trainscaled=sc_X.fit_transform(X_train)\n",
        "X_testscaled=sc_X.transform(X_test)"
      ],
      "execution_count": null,
      "outputs": []
    },
    {
      "cell_type": "markdown",
      "metadata": {
        "id": "HUSloVRPNS7q"
      },
      "source": [
        "**5. Definición del modelo de red neuronal a utilizar**"
      ]
    },
    {
      "cell_type": "code",
      "metadata": {
        "id": "YY1aQyRN30w1",
        "colab": {
          "base_uri": "https://localhost:8080/"
        },
        "outputId": "a8f1ffee-5ecc-4723-caf3-95de4a6bf4fc"
      },
      "source": [
        "#Al definir la red neuronal se eligió utilizar 4 capas ocultas\n",
        "#Cada una de las capas ocultas está definida en múltiplos de 12, porque se cuenta con 12 variables de entrada\n",
        "#Como la clasificación tiene tres posibilidades, se dejan tres neuronas a la salida\n",
        "#Se eligió la función de activación relu\n",
        "#La función .fit comienza el entrenamiento\n",
        "clf = MLPClassifier(hidden_layer_sizes=(12,144,288,3),activation=\"relu\",random_state=1).fit(X_trainscaled, y_train)"
      ],
      "execution_count": null,
      "outputs": [
        {
          "output_type": "stream",
          "name": "stderr",
          "text": [
            "/usr/local/lib/python3.7/dist-packages/sklearn/neural_network/_multilayer_perceptron.py:696: ConvergenceWarning: Stochastic Optimizer: Maximum iterations (200) reached and the optimization hasn't converged yet.\n",
            "  ConvergenceWarning,\n"
          ]
        }
      ]
    },
    {
      "cell_type": "markdown",
      "metadata": {
        "id": "aQlsjAv3Npl-"
      },
      "source": [
        "**6. Se reta al model con los datos de prueba y se obrienen métricas de evaluación**"
      ]
    },
    {
      "cell_type": "code",
      "metadata": {
        "colab": {
          "base_uri": "https://localhost:8080/"
        },
        "id": "zeWsmOYYNQYH",
        "outputId": "1188e94c-39bc-4dc7-a7bd-62ef5bea1730"
      },
      "source": [
        "y_pred=clf.predict(X_testscaled)\n",
        "print(clf.score(X_testscaled, y_test))"
      ],
      "execution_count": null,
      "outputs": [
        {
          "output_type": "stream",
          "name": "stdout",
          "text": [
            "0.9722222222222222\n"
          ]
        }
      ]
    },
    {
      "cell_type": "markdown",
      "metadata": {
        "id": "YJ6ZVbHDNx8m"
      },
      "source": [
        "**7. Generación de gráficos para verificar la efectividad de la red neuronal**"
      ]
    },
    {
      "cell_type": "code",
      "metadata": {
        "id": "k5z2RVL237GS",
        "colab": {
          "base_uri": "https://localhost:8080/",
          "height": 364
        },
        "outputId": "9082e72c-0085-4e0d-ea7a-b70dc2f73d6d"
      },
      "source": [
        "#Se genera una Matriz de confusión como figura\n",
        "#Se ingresan los nombres de las clases de acuerdo con el Target\n",
        "fig=plot_confusion_matrix(clf, X_testscaled, y_test,display_labels=[\"Class_0\",\"Class_1\",\"Class_2\"])\n",
        "#Título superior para la matriz de confusión\n",
        "fig.figure_.suptitle(\"Matriz de confusión para el dataset Wine quality\")\n",
        "plt.show()"
      ],
      "execution_count": null,
      "outputs": [
        {
          "output_type": "stream",
          "name": "stderr",
          "text": [
            "/usr/local/lib/python3.7/dist-packages/sklearn/utils/deprecation.py:87: FutureWarning: Function plot_confusion_matrix is deprecated; Function `plot_confusion_matrix` is deprecated in 1.0 and will be removed in 1.2. Use one of the class methods: ConfusionMatrixDisplay.from_predictions or ConfusionMatrixDisplay.from_estimator.\n",
            "  warnings.warn(msg, category=FutureWarning)\n"
          ]
        },
        {
          "output_type": "display_data",
          "data": {
            "image/png": "[encoded data removed]",
            "text/plain": [
              "<Figure size 432x288 with 2 Axes>"
            ]
          },
          "metadata": {
            "needs_background": "light"
          }
        }
      ]
    },
    {
      "cell_type": "markdown",
      "metadata": {
        "id": "4935xdvuFXeC"
      },
      "source": [
        "**Conclusiones:**\n",
        "\n",
        "Gracias al uso de una matriz de confusión es posible validar las clasificaciones realizadas por la red neuronal definida.\n",
        "\n",
        "En este caso, solo se obtuvo una clasificación incorrecta para la clase 1, que fue indicada como clase 0."
      ]
    },
    {
      "cell_type": "markdown",
      "metadata": {
        "id": "HOSRv76lbQYR"
      },
      "source": [
        "# Breast cancer wisconsin (diagnostic) dataset"
      ]
    },
    {
      "cell_type": "markdown",
      "metadata": {
        "id": "W4iX4rzvbQYV"
      },
      "source": [
        "**Planteamiento:**\n",
        "\n",
        "El objetivo de este conjunto de datos clasificar tumores mamarios entre malignos (**M**) y benignos (**B**) (*569 muestras en total*), con la intención de clasificarlos de acuerdo con sus características.\n",
        "\n",
        "***Clasificación binaria***\n",
        "\n",
        "![](https://images.unsplash.com/photo-1598884143267-586d90a32141?ixlib=rb-1.2.1&ixid=MnwxMjA3fDB8MHxzZWFyY2h8Nnx8Y2FuY2VyfGVufDB8fDB8fA%3D%3D&auto=format&fit=crop&w=500&q=60)"
      ]
    },
    {
      "cell_type": "markdown",
      "metadata": {
        "id": "xhOr7T0vbQYZ"
      },
      "source": [
        "**Metodología de solución**\n",
        "\n",
        "Al ser un problema de clasificación binaria, es necesario:\n",
        "\n",
        "\n",
        "1.   Importar el conjunto de datos y las librerías de manipulación numérica, normalización y visualización necesarias.\n",
        "\n",
        "2. Identificar el Target (variables a clasificar,  **y**) a partir de los demás datos del set de datos (**X**).\n",
        "\n",
        "3. Crear un conjunto de pruebas y otro de entrenamiento con los datos de **X** e **y**.\n",
        "\n",
        "4. Normalización de datos.\n",
        "\n",
        "5. Definir el modelo de red neuronal y entrenarlo con los datos de entrenamiento.\n",
        "\n",
        "6. Retar al modelo vs. los datos de prueba y obtener métricas de evaluación.\n",
        "\n",
        "7. Generar un gráfico que soporte efectividad de la clasificación.\n",
        "\n"
      ]
    },
    {
      "cell_type": "markdown",
      "metadata": {
        "id": "EGUeC8R9bQYc"
      },
      "source": [
        "**1. Datos y librerías necesarias**"
      ]
    },
    {
      "cell_type": "code",
      "metadata": {
        "id": "fC5xojb5bQYf"
      },
      "source": [
        "#Conjunto de datos\n",
        "from sklearn.datasets import load_breast_cancer\n",
        "#Red neuronal clasificadora\n",
        "from sklearn.neural_network import MLPClassifier\n",
        "#Herramienta para crear conjuntos de prueba y entrenamiento\n",
        "from sklearn.model_selection import train_test_split\n",
        "#Escalador de datos\n",
        "from sklearn.preprocessing import StandardScaler\n",
        "#Manipulación numérica\n",
        "import pandas as pd\n",
        "#Gráficos para visualización de resultados\n",
        "from sklearn.metrics import plot_confusion_matrix\n",
        "import matplotlib.pyplot as plt"
      ],
      "execution_count": null,
      "outputs": []
    },
    {
      "cell_type": "markdown",
      "metadata": {
        "id": "MJ8mCuprbQYi"
      },
      "source": [
        "**2. Identificar variables a clasificar (*Target*), en este caso, si la muestra es Maligna (1) o Benigna (0)**"
      ]
    },
    {
      "cell_type": "code",
      "metadata": {
        "colab": {
          "base_uri": "https://localhost:8080/"
        },
        "id": "1KY6jP12bQYl",
        "outputId": "b076e17d-f660-471e-ddf6-5d168e30a4d2"
      },
      "source": [
        "#Carga del dataset en una variable local para su descripción\n",
        "cancer_data = load_breast_cancer()\n",
        "#Al describir el dataset es posible identificar el Target\n",
        "cancer_data"
      ],
      "execution_count": null,
      "outputs": [
        {
          "output_type": "execute_result",
          "data": {
            "text/plain": [
              "{'DESCR': '.. _breast_cancer_dataset:\\n\\nBreast cancer wisconsin (diagnostic) dataset\\n--------------------------------------------\\n\\n**Data Set Characteristics:**\\n\\n    :Number of Instances: 569\\n\\n    :Number of Attributes: 30 numeric, predictive attributes and the class\\n\\n    :Attribute Information:\\n        - radius (mean of distances from center to points on the perimeter)\\n        - texture (standard deviation of gray-scale values)\\n        - perimeter\\n        - area\\n        - smoothness (local variation in radius lengths)\\n        - compactness (perimeter^2 / area - 1.0)\\n        - concavity (severity of concave portions of the contour)\\n        - concave points (number of concave portions of the contour)\\n        - symmetry\\n        - fractal dimension (\"coastline approximation\" - 1)\\n\\n        The mean, standard error, and \"worst\" or largest (mean of the three\\n        worst/largest values) of these features were computed for each image,\\n        resulting in 30 features.  For instance, field 0 is Mean Radius, field\\n        10 is Radius SE, field 20 is Worst Radius.\\n\\n        - class:\\n                - WDBC-Malignant\\n                - WDBC-Benign\\n\\n    :Summary Statistics:\\n\\n    ===================================== ====== ======\\n                                           Min    Max\\n    ===================================== ====== ======\\n    radius (mean):                        6.981  28.11\\n    texture (mean):                       9.71   39.28\\n    perimeter (mean):                     43.79  188.5\\n    area (mean):                          143.5  2501.0\\n    smoothness (mean):                    0.053  0.163\\n    compactness (mean):                   0.019  0.345\\n    concavity (mean):                     0.0    0.427\\n    concave points (mean):                0.0    0.201\\n    symmetry (mean):                      0.106  0.304\\n    fractal dimension (mean):             0.05   0.097\\n    radius (standard error):              0.112  2.873\\n    texture (standard error):             0.36   4.885\\n    perimeter (standard error):           0.757  21.98\\n    area (standard error):                6.802  542.2\\n    smoothness (standard error):          0.002  0.031\\n    compactness (standard error):         0.002  0.135\\n    concavity (standard error):           0.0    0.396\\n    concave points (standard error):      0.0    0.053\\n    symmetry (standard error):            0.008  0.079\\n    fractal dimension (standard error):   0.001  0.03\\n    radius (worst):                       7.93   36.04\\n    texture (worst):                      12.02  49.54\\n    perimeter (worst):                    50.41  251.2\\n    area (worst):                         185.2  4254.0\\n    smoothness (worst):                   0.071  0.223\\n    compactness (worst):                  0.027  1.058\\n    concavity (worst):                    0.0    1.252\\n    concave points (worst):               0.0    0.291\\n    symmetry (worst):                     0.156  0.664\\n    fractal dimension (worst):            0.055  0.208\\n    ===================================== ====== ======\\n\\n    :Missing Attribute Values: None\\n\\n    :Class Distribution: 212 - Malignant, 357 - Benign\\n\\n    :Creator:  Dr. William H. Wolberg, W. Nick Street, Olvi L. Mangasarian\\n\\n    :Donor: Nick Street\\n\\n    :Date: November, 1995\\n\\nThis is a copy of UCI ML Breast Cancer Wisconsin (Diagnostic) datasets.\\nhttps://goo.gl/U2Uwz2\\n\\nFeatures are computed from a digitized image of a fine needle\\naspirate (FNA) of a breast mass.  They describe\\ncharacteristics of the cell nuclei present in the image.\\n\\nSeparating plane described above was obtained using\\nMultisurface Method-Tree (MSM-T) [K. P. Bennett, \"Decision Tree\\nConstruction Via Linear Programming.\" Proceedings of the 4th\\nMidwest Artificial Intelligence and Cognitive Science Society,\\npp. 97-101, 1992], a classification method which uses linear\\nprogramming to construct a decision tree.  Relevant features\\nwere selected using an exhaustive search in the space of 1-4\\nfeatures and 1-3 separating planes.\\n\\nThe actual linear program used to obtain the separating plane\\nin the 3-dimensional space is that described in:\\n[K. P. Bennett and O. L. Mangasarian: \"Robust Linear\\nProgramming Discrimination of Two Linearly Inseparable Sets\",\\nOptimization Methods and Software 1, 1992, 23-34].\\n\\nThis database is also available through the UW CS ftp server:\\n\\nftp ftp.cs.wisc.edu\\ncd math-prog/cpo-dataset/machine-learn/WDBC/\\n\\n.. topic:: References\\n\\n   - W.N. Street, W.H. Wolberg and O.L. Mangasarian. Nuclear feature extraction \\n     for breast tumor diagnosis. IS&T/SPIE 1993 International Symposium on \\n     Electronic Imaging: Science and Technology, volume 1905, pages 861-870,\\n     San Jose, CA, 1993.\\n   - O.L. Mangasarian, W.N. Street and W.H. Wolberg. Breast cancer diagnosis and \\n     prognosis via linear programming. Operations Research, 43(4), pages 570-577, \\n     July-August 1995.\\n   - W.H. Wolberg, W.N. Street, and O.L. Mangasarian. Machine learning techniques\\n     to diagnose breast cancer from fine-needle aspirates. Cancer Letters 77 (1994) \\n     163-171.',\n",
              " 'data': array([[1.799e+01, 1.038e+01, 1.228e+02, ..., 2.654e-01, 4.601e-01,\n",
              "         1.189e-01],\n",
              "        [2.057e+01, 1.777e+01, 1.329e+02, ..., 1.860e-01, 2.750e-01,\n",
              "         8.902e-02],\n",
              "        [1.969e+01, 2.125e+01, 1.300e+02, ..., 2.430e-01, 3.613e-01,\n",
              "         8.758e-02],\n",
              "        ...,\n",
              "        [1.660e+01, 2.808e+01, 1.083e+02, ..., 1.418e-01, 2.218e-01,\n",
              "         7.820e-02],\n",
              "        [2.060e+01, 2.933e+01, 1.401e+02, ..., 2.650e-01, 4.087e-01,\n",
              "         1.240e-01],\n",
              "        [7.760e+00, 2.454e+01, 4.792e+01, ..., 0.000e+00, 2.871e-01,\n",
              "         7.039e-02]]),\n",
              " 'data_module': 'sklearn.datasets.data',\n",
              " 'feature_names': array(['mean radius', 'mean texture', 'mean perimeter', 'mean area',\n",
              "        'mean smoothness', 'mean compactness', 'mean concavity',\n",
              "        'mean concave points', 'mean symmetry', 'mean fractal dimension',\n",
              "        'radius error', 'texture error', 'perimeter error', 'area error',\n",
              "        'smoothness error', 'compactness error', 'concavity error',\n",
              "        'concave points error', 'symmetry error',\n",
              "        'fractal dimension error', 'worst radius', 'worst texture',\n",
              "        'worst perimeter', 'worst area', 'worst smoothness',\n",
              "        'worst compactness', 'worst concavity', 'worst concave points',\n",
              "        'worst symmetry', 'worst fractal dimension'], dtype='<U23'),\n",
              " 'filename': 'breast_cancer.csv',\n",
              " 'frame': None,\n",
              " 'target': array([0, 0, 0, 0, 0, 0, 0, 0, 0, 0, 0, 0, 0, 0, 0, 0, 0, 0, 0, 1, 1, 1,\n",
              "        0, 0, 0, 0, 0, 0, 0, 0, 0, 0, 0, 0, 0, 0, 0, 1, 0, 0, 0, 0, 0, 0,\n",
              "        0, 0, 1, 0, 1, 1, 1, 1, 1, 0, 0, 1, 0, 0, 1, 1, 1, 1, 0, 1, 0, 0,\n",
              "        1, 1, 1, 1, 0, 1, 0, 0, 1, 0, 1, 0, 0, 1, 1, 1, 0, 0, 1, 0, 0, 0,\n",
              "        1, 1, 1, 0, 1, 1, 0, 0, 1, 1, 1, 0, 0, 1, 1, 1, 1, 0, 1, 1, 0, 1,\n",
              "        1, 1, 1, 1, 1, 1, 1, 0, 0, 0, 1, 0, 0, 1, 1, 1, 0, 0, 1, 0, 1, 0,\n",
              "        0, 1, 0, 0, 1, 1, 0, 1, 1, 0, 1, 1, 1, 1, 0, 1, 1, 1, 1, 1, 1, 1,\n",
              "        1, 1, 0, 1, 1, 1, 1, 0, 0, 1, 0, 1, 1, 0, 0, 1, 1, 0, 0, 1, 1, 1,\n",
              "        1, 0, 1, 1, 0, 0, 0, 1, 0, 1, 0, 1, 1, 1, 0, 1, 1, 0, 0, 1, 0, 0,\n",
              "        0, 0, 1, 0, 0, 0, 1, 0, 1, 0, 1, 1, 0, 1, 0, 0, 0, 0, 1, 1, 0, 0,\n",
              "        1, 1, 1, 0, 1, 1, 1, 1, 1, 0, 0, 1, 1, 0, 1, 1, 0, 0, 1, 0, 1, 1,\n",
              "        1, 1, 0, 1, 1, 1, 1, 1, 0, 1, 0, 0, 0, 0, 0, 0, 0, 0, 0, 0, 0, 0,\n",
              "        0, 0, 1, 1, 1, 1, 1, 1, 0, 1, 0, 1, 1, 0, 1, 1, 0, 1, 0, 0, 1, 1,\n",
              "        1, 1, 1, 1, 1, 1, 1, 1, 1, 1, 1, 0, 1, 1, 0, 1, 0, 1, 1, 1, 1, 1,\n",
              "        1, 1, 1, 1, 1, 1, 1, 1, 1, 0, 1, 1, 1, 0, 1, 0, 1, 1, 1, 1, 0, 0,\n",
              "        0, 1, 1, 1, 1, 0, 1, 0, 1, 0, 1, 1, 1, 0, 1, 1, 1, 1, 1, 1, 1, 0,\n",
              "        0, 0, 1, 1, 1, 1, 1, 1, 1, 1, 1, 1, 1, 0, 0, 1, 0, 0, 0, 1, 0, 0,\n",
              "        1, 1, 1, 1, 1, 0, 1, 1, 1, 1, 1, 0, 1, 1, 1, 0, 1, 1, 0, 0, 1, 1,\n",
              "        1, 1, 1, 1, 0, 1, 1, 1, 1, 1, 1, 1, 0, 1, 1, 1, 1, 1, 0, 1, 1, 0,\n",
              "        1, 1, 1, 1, 1, 1, 1, 1, 1, 1, 1, 1, 0, 1, 0, 0, 1, 0, 1, 1, 1, 1,\n",
              "        1, 0, 1, 1, 0, 1, 0, 1, 1, 0, 1, 0, 1, 1, 1, 1, 1, 1, 1, 1, 0, 0,\n",
              "        1, 1, 1, 1, 1, 1, 0, 1, 1, 1, 1, 1, 1, 1, 1, 1, 1, 0, 1, 1, 1, 1,\n",
              "        1, 1, 1, 0, 1, 0, 1, 1, 0, 1, 1, 1, 1, 1, 0, 0, 1, 0, 1, 0, 1, 1,\n",
              "        1, 1, 1, 0, 1, 1, 0, 1, 0, 1, 0, 0, 1, 1, 1, 0, 1, 1, 1, 1, 1, 1,\n",
              "        1, 1, 1, 1, 1, 0, 1, 0, 0, 1, 1, 1, 1, 1, 1, 1, 1, 1, 1, 1, 1, 1,\n",
              "        1, 1, 1, 1, 1, 1, 1, 1, 1, 1, 1, 1, 0, 0, 0, 0, 0, 0, 1]),\n",
              " 'target_names': array(['malignant', 'benign'], dtype='<U9')}"
            ]
          },
          "metadata": {},
          "execution_count": 3
        }
      ]
    },
    {
      "cell_type": "code",
      "metadata": {
        "id": "3iY3SBK_bQYq"
      },
      "source": [
        "#Pandas convierte los datos a un Dataframe para su manipulación numérica,\n",
        "#se piden todos los datos del dataset, con las columnas descriptivas\n",
        "X = pd.DataFrame(cancer_data.data, columns=cancer_data.feature_names)\n",
        "#Se guardan en y los datos a clasificar (Target)\n",
        "y = cancer_data.target"
      ],
      "execution_count": null,
      "outputs": []
    },
    {
      "cell_type": "markdown",
      "metadata": {
        "id": "y7nN89hdbQYs"
      },
      "source": [
        "**3. Generación de conjuntos de prueba y entrenamiento**"
      ]
    },
    {
      "cell_type": "code",
      "metadata": {
        "id": "TJNtMl57bQYv"
      },
      "source": [
        "#random_state indica a partir de qué dato se comenzará la aleatoriedad\n",
        "#test_size indica la proporción de datos a utilizar en el conjunto de prueba\n",
        "X_train, X_test, y_train, y_test = train_test_split(X,y,random_state=1, test_size=0.2)"
      ],
      "execution_count": null,
      "outputs": []
    },
    {
      "cell_type": "markdown",
      "metadata": {
        "id": "piBLq5GVbQYz"
      },
      "source": [
        "**4. Escalamiento de datos para su normalización**"
      ]
    },
    {
      "cell_type": "code",
      "metadata": {
        "id": "szbs4b7cbQY0"
      },
      "source": [
        "sc_X = StandardScaler()\n",
        "X_trainscaled=sc_X.fit_transform(X_train)\n",
        "X_testscaled=sc_X.transform(X_test)"
      ],
      "execution_count": null,
      "outputs": []
    },
    {
      "cell_type": "markdown",
      "metadata": {
        "id": "-vABIHVabQY2"
      },
      "source": [
        "**5. Definición del modelo de red neuronal a utilizar**"
      ]
    },
    {
      "cell_type": "code",
      "metadata": {
        "colab": {
          "base_uri": "https://localhost:8080/"
        },
        "id": "Qp7uEIWDbQY4",
        "outputId": "d18afaa6-25fd-4edc-e155-b078b71c56e8"
      },
      "source": [
        "#Al definir la red neuronal se eligió utilizar 4 capas ocultas\n",
        "#Cada una de las capas ocultas está definida en múltiplos de 30, porque se cuenta con 30 variables de entrada\n",
        "#Como la salida es binaria, se dejan dos neuronas a la salida\n",
        "#Se eligió la función de activación relu\n",
        "#La función .fit comienza el entrenamiento\n",
        "clf = MLPClassifier(hidden_layer_sizes=(30,150,300,2),activation=\"relu\",random_state=1).fit(X_trainscaled, y_train)"
      ],
      "execution_count": null,
      "outputs": [
        {
          "output_type": "stream",
          "name": "stderr",
          "text": [
            "/usr/local/lib/python3.7/dist-packages/sklearn/neural_network/_multilayer_perceptron.py:696: ConvergenceWarning: Stochastic Optimizer: Maximum iterations (200) reached and the optimization hasn't converged yet.\n",
            "  ConvergenceWarning,\n"
          ]
        }
      ]
    },
    {
      "cell_type": "markdown",
      "metadata": {
        "id": "QyF6mrE4bQY5"
      },
      "source": [
        "**6. Se reta al modelo con los datos de prueba y se obrienen métricas de evaluación**"
      ]
    },
    {
      "cell_type": "code",
      "metadata": {
        "colab": {
          "base_uri": "https://localhost:8080/"
        },
        "id": "1KLw1YXpbQY7",
        "outputId": "3d931d8f-d51d-4732-9099-d55a8ac1b540"
      },
      "source": [
        "y_pred=clf.predict(X_testscaled)\n",
        "print(clf.score(X_testscaled, y_test))"
      ],
      "execution_count": null,
      "outputs": [
        {
          "output_type": "stream",
          "name": "stdout",
          "text": [
            "0.9736842105263158\n"
          ]
        }
      ]
    },
    {
      "cell_type": "markdown",
      "metadata": {
        "id": "oHZz-72KbQY9"
      },
      "source": [
        "**7. Generación de gráficos para verificar la efectividad de la red neuronal**"
      ]
    },
    {
      "cell_type": "code",
      "metadata": {
        "colab": {
          "base_uri": "https://localhost:8080/",
          "height": 365
        },
        "id": "DPvMgUgbbQZA",
        "outputId": "2f83d6ad-e35e-42ee-b2bc-b4f16f1f2349"
      },
      "source": [
        "#Se genera una Matriz de confusión como figura\n",
        "#Se ingresan los nombres de las clases de acuerdo con el Target\n",
        "fig=plot_confusion_matrix(clf, X_testscaled, y_test,display_labels=[\"Maligno\",\"Benigno\"])\n",
        "#Título superior para la matriz de confusión\n",
        "fig.figure_.suptitle(\"Matriz de confusión para el dataset Breast Cancer\")\n",
        "plt.show()"
      ],
      "execution_count": null,
      "outputs": [
        {
          "output_type": "stream",
          "name": "stderr",
          "text": [
            "/usr/local/lib/python3.7/dist-packages/sklearn/utils/deprecation.py:87: FutureWarning: Function plot_confusion_matrix is deprecated; Function `plot_confusion_matrix` is deprecated in 1.0 and will be removed in 1.2. Use one of the class methods: ConfusionMatrixDisplay.from_predictions or ConfusionMatrixDisplay.from_estimator.\n",
            "  warnings.warn(msg, category=FutureWarning)\n"
          ]
        },
        {
          "output_type": "display_data",
          "data": {
            "image/png": "[encoded data removed]",
            "text/plain": [
              "<Figure size 432x288 with 2 Axes>"
            ]
          },
          "metadata": {
            "needs_background": "light"
          }
        }
      ]
    },
    {
      "cell_type": "markdown",
      "metadata": {
        "id": "U3Dw069obQZC"
      },
      "source": [
        "**Conclusiones:**\n",
        "\n",
        "Gracias al uso de una matriz de confusión es posible validar las clasificaciones realizadas por la red neuronal definida.\n",
        "\n",
        "En este caso, solo se obtuvieron tres clasificaciones incorrectas para la clase Maligno, que fueron indicadas como clase Benigno."
      ]
    },
    {
      "cell_type": "markdown",
      "metadata": {
        "id": "AXhBPytfAsts"
      },
      "source": [
        "# Regresión"
      ]
    },
    {
      "cell_type": "markdown",
      "metadata": {
        "id": "YD51zR4phx0i"
      },
      "source": [
        "# Boston house prices dataset"
      ]
    },
    {
      "cell_type": "markdown",
      "metadata": {
        "id": "gNAnoMNDhx0o"
      },
      "source": [
        "**Planteamiento:**\n",
        "\n",
        "El objetivo de este conjunto de datos es predecir el valor promedio de una vivienda en Boston (**MEDV**) a partir de factores como el índice delictivo o el número de escuelas en la cercanía(*506 muestras en total*).\n",
        "\n",
        "***Regresión***\n",
        "\n",
        "![](https://images.unsplash.com/photo-1583354344092-dcf7e164cab0?ixlib=rb-1.2.1&ixid=MnwxMjA3fDB8MHxzZWFyY2h8MzF8fGJvc3RvbnxlbnwwfHwwfHw%3D&auto=format&fit=crop&w=500&q=60)"
      ]
    },
    {
      "cell_type": "markdown",
      "metadata": {
        "id": "4j3BveHmhx0u"
      },
      "source": [
        "**Metodología de solución**\n",
        "\n",
        "Al ser un problema de regresión, es necesario:\n",
        "\n",
        "\n",
        "1.   Importar el conjunto de datos y las librerías de manipulación numérica, normalización y visualización necesarias.\n",
        "\n",
        "2. Identificar el Target (variables a clasificar,  **y**) a partir de los demás datos del set de datos (**X**).\n",
        "\n",
        "3. Crear un conjunto de pruebas y otro de entrenamiento con los datos de **X** e **y**.\n",
        "\n",
        "4. Normalización de datos.\n",
        "\n",
        "5. Definir el modelo de red neuronal y entrenarlo con los datos de entrenamiento.\n",
        "\n",
        "6. Retar al modelo vs. los datos de prueba y obtener métricas de evaluación.\n",
        "\n",
        "7. Generar un gráfico que soporte efectividad de la regresión.\n",
        "\n"
      ]
    },
    {
      "cell_type": "markdown",
      "metadata": {
        "id": "91YmUcv9hx00"
      },
      "source": [
        "**1. Datos y librerías necesarias**"
      ]
    },
    {
      "cell_type": "code",
      "metadata": {
        "id": "ghBdNHYKhx05"
      },
      "source": [
        "#Conjunto de datos\n",
        "from sklearn.datasets import load_boston\n",
        "#Red neuronal de regresión\n",
        "from sklearn.neural_network import MLPRegressor\n",
        "#Herramienta para crear conjuntos de prueba y entrenamiento\n",
        "from sklearn.model_selection import train_test_split\n",
        "#Escalador de datos\n",
        "from sklearn.preprocessing import StandardScaler\n",
        "#Manipulación numérica\n",
        "import pandas as pd\n",
        "#Gráficos para visualización de resultados\n",
        "from sklearn.metrics import plot_confusion_matrix\n",
        "import matplotlib.pyplot as plt"
      ],
      "execution_count": null,
      "outputs": []
    },
    {
      "cell_type": "markdown",
      "metadata": {
        "id": "GiKV6dMnhx0_"
      },
      "source": [
        "**2. Identificar variables a clasificar (*Target*), en este caso, el valor promedio de una cada (MEDV, en miles de dólares), de acuerdo con factores como el índice de criminalidad, el número de escuelas cercanas, etc.**\n",
        "\n",
        "Un dato interesante alrededor de este dataset, es que Sci-kit Learn está por *descontinuarlo* debido a dos factores discriminatorios:\n",
        "\n",
        "*  La variable **B** se refiere a la proporción de afrodescendientes por población, y\n",
        "\n",
        "* La variable **LSTAT** se refiere al porcentaje de población de bajos recursos o *estatus* en la ciudad."
      ]
    },
    {
      "cell_type": "code",
      "metadata": {
        "colab": {
          "base_uri": "https://localhost:8080/"
        },
        "id": "zt2DbDq6hx1E",
        "outputId": "84585b0d-5a48-429f-fb4d-def7bcb7aa2b"
      },
      "source": [
        "#Carga del dataset en una variable local para su descripción\n",
        "boston_data = load_boston()\n",
        "#Al describir el dataset es posible identificar el Target\n",
        "boston_data"
      ],
      "execution_count": null,
      "outputs": [
        {
          "output_type": "stream",
          "name": "stderr",
          "text": [
            "/usr/local/lib/python3.7/dist-packages/sklearn/utils/deprecation.py:87: FutureWarning: Function load_boston is deprecated; `load_boston` is deprecated in 1.0 and will be removed in 1.2.\n",
            "\n",
            "    The Boston housing prices dataset has an ethical problem. You can refer to\n",
            "    the documentation of this function for further details.\n",
            "\n",
            "    The scikit-learn maintainers therefore strongly discourage the use of this\n",
            "    dataset unless the purpose of the code is to study and educate about\n",
            "    ethical issues in data science and machine learning.\n",
            "\n",
            "    In this special case, you can fetch the dataset from the original\n",
            "    source::\n",
            "\n",
            "        import pandas as pd\n",
            "        import numpy as np\n",
            "\n",
            "\n",
            "        data_url = \"http://lib.stat.cmu.edu/datasets/boston\"\n",
            "        raw_df = pd.read_csv(data_url, sep=\"\\s+\", skiprows=22, header=None)\n",
            "        data = np.hstack([raw_df.values[::2, :], raw_df.values[1::2, :2]])\n",
            "        target = raw_df.values[1::2, 2]\n",
            "\n",
            "    Alternative datasets include the California housing dataset (i.e.\n",
            "    :func:`~sklearn.datasets.fetch_california_housing`) and the Ames housing\n",
            "    dataset. You can load the datasets as follows::\n",
            "\n",
            "        from sklearn.datasets import fetch_california_housing\n",
            "        housing = fetch_california_housing()\n",
            "\n",
            "    for the California housing dataset and::\n",
            "\n",
            "        from sklearn.datasets import fetch_openml\n",
            "        housing = fetch_openml(name=\"house_prices\", as_frame=True)\n",
            "\n",
            "    for the Ames housing dataset.\n",
            "    \n",
            "  warnings.warn(msg, category=FutureWarning)\n"
          ]
        },
        {
          "output_type": "execute_result",
          "data": {
            "text/plain": [
              "{'DESCR': \".. _boston_dataset:\\n\\nBoston house prices dataset\\n---------------------------\\n\\n**Data Set Characteristics:**  \\n\\n    :Number of Instances: 506 \\n\\n    :Number of Attributes: 13 numeric/categorical predictive. Median Value (attribute 14) is usually the target.\\n\\n    :Attribute Information (in order):\\n        - CRIM     per capita crime rate by town\\n        - ZN       proportion of residential land zoned for lots over 25,000 sq.ft.\\n        - INDUS    proportion of non-retail business acres per town\\n        - CHAS     Charles River dummy variable (= 1 if tract bounds river; 0 otherwise)\\n        - NOX      nitric oxides concentration (parts per 10 million)\\n        - RM       average number of rooms per dwelling\\n        - AGE      proportion of owner-occupied units built prior to 1940\\n        - DIS      weighted distances to five Boston employment centres\\n        - RAD      index of accessibility to radial highways\\n        - TAX      full-value property-tax rate per $10,000\\n        - PTRATIO  pupil-teacher ratio by town\\n        - B        1000(Bk - 0.63)^2 where Bk is the proportion of black people by town\\n        - LSTAT    % lower status of the population\\n        - MEDV     Median value of owner-occupied homes in $1000's\\n\\n    :Missing Attribute Values: None\\n\\n    :Creator: Harrison, D. and Rubinfeld, D.L.\\n\\nThis is a copy of UCI ML housing dataset.\\nhttps://archive.ics.uci.edu/ml/machine-learning-databases/housing/\\n\\n\\nThis dataset was taken from the StatLib library which is maintained at Carnegie Mellon University.\\n\\nThe Boston house-price data of Harrison, D. and Rubinfeld, D.L. 'Hedonic\\nprices and the demand for clean air', J. Environ. Economics & Management,\\nvol.5, 81-102, 1978.   Used in Belsley, Kuh & Welsch, 'Regression diagnostics\\n...', Wiley, 1980.   N.B. Various transformations are used in the table on\\npages 244-261 of the latter.\\n\\nThe Boston house-price data has been used in many machine learning papers that address regression\\nproblems.   \\n     \\n.. topic:: References\\n\\n   - Belsley, Kuh & Welsch, 'Regression diagnostics: Identifying Influential Data and Sources of Collinearity', Wiley, 1980. 244-261.\\n   - Quinlan,R. (1993). Combining Instance-Based and Model-Based Learning. In Proceedings on the Tenth International Conference of Machine Learning, 236-243, University of Massachusetts, Amherst. Morgan Kaufmann.\\n\",\n",
              " 'data': array([[6.3200e-03, 1.8000e+01, 2.3100e+00, ..., 1.5300e+01, 3.9690e+02,\n",
              "         4.9800e+00],\n",
              "        [2.7310e-02, 0.0000e+00, 7.0700e+00, ..., 1.7800e+01, 3.9690e+02,\n",
              "         9.1400e+00],\n",
              "        [2.7290e-02, 0.0000e+00, 7.0700e+00, ..., 1.7800e+01, 3.9283e+02,\n",
              "         4.0300e+00],\n",
              "        ...,\n",
              "        [6.0760e-02, 0.0000e+00, 1.1930e+01, ..., 2.1000e+01, 3.9690e+02,\n",
              "         5.6400e+00],\n",
              "        [1.0959e-01, 0.0000e+00, 1.1930e+01, ..., 2.1000e+01, 3.9345e+02,\n",
              "         6.4800e+00],\n",
              "        [4.7410e-02, 0.0000e+00, 1.1930e+01, ..., 2.1000e+01, 3.9690e+02,\n",
              "         7.8800e+00]]),\n",
              " 'data_module': 'sklearn.datasets.data',\n",
              " 'feature_names': array(['CRIM', 'ZN', 'INDUS', 'CHAS', 'NOX', 'RM', 'AGE', 'DIS', 'RAD',\n",
              "        'TAX', 'PTRATIO', 'B', 'LSTAT'], dtype='<U7'),\n",
              " 'filename': 'boston_house_prices.csv',\n",
              " 'target': array([24. , 21.6, 34.7, 33.4, 36.2, 28.7, 22.9, 27.1, 16.5, 18.9, 15. ,\n",
              "        18.9, 21.7, 20.4, 18.2, 19.9, 23.1, 17.5, 20.2, 18.2, 13.6, 19.6,\n",
              "        15.2, 14.5, 15.6, 13.9, 16.6, 14.8, 18.4, 21. , 12.7, 14.5, 13.2,\n",
              "        13.1, 13.5, 18.9, 20. , 21. , 24.7, 30.8, 34.9, 26.6, 25.3, 24.7,\n",
              "        21.2, 19.3, 20. , 16.6, 14.4, 19.4, 19.7, 20.5, 25. , 23.4, 18.9,\n",
              "        35.4, 24.7, 31.6, 23.3, 19.6, 18.7, 16. , 22.2, 25. , 33. , 23.5,\n",
              "        19.4, 22. , 17.4, 20.9, 24.2, 21.7, 22.8, 23.4, 24.1, 21.4, 20. ,\n",
              "        20.8, 21.2, 20.3, 28. , 23.9, 24.8, 22.9, 23.9, 26.6, 22.5, 22.2,\n",
              "        23.6, 28.7, 22.6, 22. , 22.9, 25. , 20.6, 28.4, 21.4, 38.7, 43.8,\n",
              "        33.2, 27.5, 26.5, 18.6, 19.3, 20.1, 19.5, 19.5, 20.4, 19.8, 19.4,\n",
              "        21.7, 22.8, 18.8, 18.7, 18.5, 18.3, 21.2, 19.2, 20.4, 19.3, 22. ,\n",
              "        20.3, 20.5, 17.3, 18.8, 21.4, 15.7, 16.2, 18. , 14.3, 19.2, 19.6,\n",
              "        23. , 18.4, 15.6, 18.1, 17.4, 17.1, 13.3, 17.8, 14. , 14.4, 13.4,\n",
              "        15.6, 11.8, 13.8, 15.6, 14.6, 17.8, 15.4, 21.5, 19.6, 15.3, 19.4,\n",
              "        17. , 15.6, 13.1, 41.3, 24.3, 23.3, 27. , 50. , 50. , 50. , 22.7,\n",
              "        25. , 50. , 23.8, 23.8, 22.3, 17.4, 19.1, 23.1, 23.6, 22.6, 29.4,\n",
              "        23.2, 24.6, 29.9, 37.2, 39.8, 36.2, 37.9, 32.5, 26.4, 29.6, 50. ,\n",
              "        32. , 29.8, 34.9, 37. , 30.5, 36.4, 31.1, 29.1, 50. , 33.3, 30.3,\n",
              "        34.6, 34.9, 32.9, 24.1, 42.3, 48.5, 50. , 22.6, 24.4, 22.5, 24.4,\n",
              "        20. , 21.7, 19.3, 22.4, 28.1, 23.7, 25. , 23.3, 28.7, 21.5, 23. ,\n",
              "        26.7, 21.7, 27.5, 30.1, 44.8, 50. , 37.6, 31.6, 46.7, 31.5, 24.3,\n",
              "        31.7, 41.7, 48.3, 29. , 24. , 25.1, 31.5, 23.7, 23.3, 22. , 20.1,\n",
              "        22.2, 23.7, 17.6, 18.5, 24.3, 20.5, 24.5, 26.2, 24.4, 24.8, 29.6,\n",
              "        42.8, 21.9, 20.9, 44. , 50. , 36. , 30.1, 33.8, 43.1, 48.8, 31. ,\n",
              "        36.5, 22.8, 30.7, 50. , 43.5, 20.7, 21.1, 25.2, 24.4, 35.2, 32.4,\n",
              "        32. , 33.2, 33.1, 29.1, 35.1, 45.4, 35.4, 46. , 50. , 32.2, 22. ,\n",
              "        20.1, 23.2, 22.3, 24.8, 28.5, 37.3, 27.9, 23.9, 21.7, 28.6, 27.1,\n",
              "        20.3, 22.5, 29. , 24.8, 22. , 26.4, 33.1, 36.1, 28.4, 33.4, 28.2,\n",
              "        22.8, 20.3, 16.1, 22.1, 19.4, 21.6, 23.8, 16.2, 17.8, 19.8, 23.1,\n",
              "        21. , 23.8, 23.1, 20.4, 18.5, 25. , 24.6, 23. , 22.2, 19.3, 22.6,\n",
              "        19.8, 17.1, 19.4, 22.2, 20.7, 21.1, 19.5, 18.5, 20.6, 19. , 18.7,\n",
              "        32.7, 16.5, 23.9, 31.2, 17.5, 17.2, 23.1, 24.5, 26.6, 22.9, 24.1,\n",
              "        18.6, 30.1, 18.2, 20.6, 17.8, 21.7, 22.7, 22.6, 25. , 19.9, 20.8,\n",
              "        16.8, 21.9, 27.5, 21.9, 23.1, 50. , 50. , 50. , 50. , 50. , 13.8,\n",
              "        13.8, 15. , 13.9, 13.3, 13.1, 10.2, 10.4, 10.9, 11.3, 12.3,  8.8,\n",
              "         7.2, 10.5,  7.4, 10.2, 11.5, 15.1, 23.2,  9.7, 13.8, 12.7, 13.1,\n",
              "        12.5,  8.5,  5. ,  6.3,  5.6,  7.2, 12.1,  8.3,  8.5,  5. , 11.9,\n",
              "        27.9, 17.2, 27.5, 15. , 17.2, 17.9, 16.3,  7. ,  7.2,  7.5, 10.4,\n",
              "         8.8,  8.4, 16.7, 14.2, 20.8, 13.4, 11.7,  8.3, 10.2, 10.9, 11. ,\n",
              "         9.5, 14.5, 14.1, 16.1, 14.3, 11.7, 13.4,  9.6,  8.7,  8.4, 12.8,\n",
              "        10.5, 17.1, 18.4, 15.4, 10.8, 11.8, 14.9, 12.6, 14.1, 13. , 13.4,\n",
              "        15.2, 16.1, 17.8, 14.9, 14.1, 12.7, 13.5, 14.9, 20. , 16.4, 17.7,\n",
              "        19.5, 20.2, 21.4, 19.9, 19. , 19.1, 19.1, 20.1, 19.9, 19.6, 23.2,\n",
              "        29.8, 13.8, 13.3, 16.7, 12. , 14.6, 21.4, 23. , 23.7, 25. , 21.8,\n",
              "        20.6, 21.2, 19.1, 20.6, 15.2,  7. ,  8.1, 13.6, 20.1, 21.8, 24.5,\n",
              "        23.1, 19.7, 18.3, 21.2, 17.5, 16.8, 22.4, 20.6, 23.9, 22. , 11.9])}"
            ]
          },
          "metadata": {},
          "execution_count": 24
        }
      ]
    },
    {
      "cell_type": "code",
      "metadata": {
        "id": "hfYKlIzYhx1H"
      },
      "source": [
        "#Pandas convierte los datos a un Dataframe para su manipulación numérica,\n",
        "#se piden todos los datos del dataset, con las columnas descriptivas\n",
        "X = pd.DataFrame(boston_data.data, columns=boston_data.feature_names)\n",
        "#Se guardan en y los datos a clasificar (Target)\n",
        "y = boston_data.target"
      ],
      "execution_count": null,
      "outputs": []
    },
    {
      "cell_type": "markdown",
      "metadata": {
        "id": "1m2nlquJhx1L"
      },
      "source": [
        "**3. Generación de conjuntos de prueba y entrenamiento**"
      ]
    },
    {
      "cell_type": "code",
      "metadata": {
        "id": "9QX-aDAohx1O"
      },
      "source": [
        "#random_state indica a partir de qué dato se comenzará la aleatoriedad\n",
        "#test_size indica la proporción de datos a utilizar en el conjunto de prueba\n",
        "X_train, X_test, y_train, y_test = train_test_split(X,y,random_state=1, test_size=0.2)"
      ],
      "execution_count": null,
      "outputs": []
    },
    {
      "cell_type": "markdown",
      "metadata": {
        "id": "_A1HWKJQhx1S"
      },
      "source": [
        "**4. Escalamiento de datos para su normalización**"
      ]
    },
    {
      "cell_type": "code",
      "metadata": {
        "id": "yZs2kBLmhx1U"
      },
      "source": [
        "sc_X = StandardScaler()\n",
        "X_trainscaled=sc_X.fit_transform(X_train)\n",
        "X_testscaled=sc_X.transform(X_test)"
      ],
      "execution_count": null,
      "outputs": []
    },
    {
      "cell_type": "markdown",
      "metadata": {
        "id": "vDAXhimthx1X"
      },
      "source": [
        "**5. Definición del modelo de red neuronal a utilizar**"
      ]
    },
    {
      "cell_type": "code",
      "metadata": {
        "id": "uQlpRDGahx1a"
      },
      "source": [
        "#Al definir la red neuronal se eligió utilizar 4 capas ocultas\n",
        "#Cada una de las capas ocultas está definida en múltiplos de 13, porque se cuenta con 13 variables de entrada\n",
        "#Como la salida es un valor, se deja una neurona a la salida\n",
        "#Se eligió la función de activación relu\n",
        "#La función .fit comienza el entrenamiento\n",
        "reg = MLPRegressor(hidden_layer_sizes=(13,130,650,130),activation=\"relu\",random_state=1).fit(X_trainscaled, y_train)"
      ],
      "execution_count": null,
      "outputs": []
    },
    {
      "cell_type": "markdown",
      "metadata": {
        "id": "jXak4_Zyhx1c"
      },
      "source": [
        "**6. Se reta al modelo con los datos de prueba y se obrienen métricas de evaluación**"
      ]
    },
    {
      "cell_type": "code",
      "metadata": {
        "colab": {
          "base_uri": "https://localhost:8080/"
        },
        "id": "9jDR-k5Whx1e",
        "outputId": "98738c6f-1b79-4fde-874d-976c6f386931"
      },
      "source": [
        "y_pred=reg.predict(X_testscaled)\n",
        "print(reg.score(X_testscaled, y_test))"
      ],
      "execution_count": null,
      "outputs": [
        {
          "output_type": "stream",
          "name": "stdout",
          "text": [
            "0.9043683089424702\n"
          ]
        }
      ]
    },
    {
      "cell_type": "code",
      "metadata": {
        "colab": {
          "base_uri": "https://localhost:8080/"
        },
        "id": "fcZLtq_qkdLd",
        "outputId": "9f2470ac-66d7-4518-f7af-00f99043bbae"
      },
      "source": [
        "y_pred"
      ],
      "execution_count": null,
      "outputs": [
        {
          "output_type": "execute_result",
          "data": {
            "text/plain": [
              "array([31.12316259, 19.86155884, 19.50223199, 21.15666846, 28.45034886,\n",
              "       19.65011708, 27.77062901, 17.17673999, 23.21864243, 24.72676019,\n",
              "       22.73496749, 23.9079436 , 17.91921793, 21.03807743, 19.61696203,\n",
              "       30.23551007, 11.72901346, 49.16964484, 21.36413799, 13.17027799,\n",
              "       18.4109541 , 16.35740035, 22.06239517, 23.69371359, 26.61203407,\n",
              "       10.71712127, 12.17674505, 20.33772583, 37.48036001, 15.54229424,\n",
              "       23.78782957, 16.41823739, 49.50799065, 16.20921497, 20.06912771,\n",
              "       20.30899342, 14.70228656, 31.41496734, 14.46080462, 18.97735881,\n",
              "       21.51716863, 23.41935808, 28.22499901, 15.22254489, 18.4037881 ,\n",
              "       11.7492953 , 43.12509117, 17.67083372, 21.06956397, 15.8769266 ,\n",
              "       19.15209792, 20.10194345, 26.81073093, 23.04308784, 13.51061005,\n",
              "       23.9838498 , 11.24145506, 22.15476009, 15.78661252, 44.76410188,\n",
              "       20.68571089, 27.16837627, 15.67736309, 15.83624492, 20.72506008,\n",
              "       35.80574714, 46.1470516 , 19.25325456, 22.80957695, 20.43609696,\n",
              "       23.52257775, 11.03165135, 20.66182887, 18.34787575, 18.53294961,\n",
              "       21.46667185, 54.33431859, 21.56462048, 21.70362425, 30.92723355,\n",
              "       17.31824662, 18.93645292, 32.71890568, 10.76705832, 21.09753085,\n",
              "       25.3869426 , 13.94948603, 25.32443777, 18.41432397, 16.49211078,\n",
              "       25.65482091, 52.5793638 , 15.97674258, 18.06516785,  8.87101471,\n",
              "       17.86199008, 21.06500459, 23.66063796, 45.58947712, 18.57991484,\n",
              "       13.66928714, 13.90165029])"
            ]
          },
          "metadata": {},
          "execution_count": 30
        }
      ]
    },
    {
      "cell_type": "markdown",
      "metadata": {
        "id": "P9mLMyhphx1g"
      },
      "source": [
        "**7. Generación de gráficos para verificar la efectividad de la red neuronal**"
      ]
    },
    {
      "cell_type": "code",
      "metadata": {
        "colab": {
          "base_uri": "https://localhost:8080/",
          "height": 360
        },
        "id": "4y3Y2GYphx1i",
        "outputId": "b56933dd-2f27-42e9-a626-dcd0bd9df947"
      },
      "source": [
        "#Se genera la gráfica\n",
        "#y contiene los datos reales  sin normalizar\n",
        "plt.hist(y, color = 'c')\n",
        "#y_pred contiene las predicciones\n",
        "plt.hist(y_pred, color = 'm')"
      ],
      "execution_count": null,
      "outputs": [
        {
          "output_type": "execute_result",
          "data": {
            "text/plain": [
              "(array([ 9., 22., 35., 17.,  8.,  2.,  1.,  2.,  4.,  2.]),\n",
              " array([ 8.87101471, 13.4173451 , 17.96367548, 22.51000587, 27.05633626,\n",
              "        31.60266665, 36.14899704, 40.69532743, 45.24165781, 49.7879882 ,\n",
              "        54.33431859]),\n",
              " <a list of 10 Patch objects>)"
            ]
          },
          "metadata": {},
          "execution_count": 31
        },
        {
          "output_type": "display_data",
          "data": {
            "image/png": "[encoded data removed]",
            "text/plain": [
              "<Figure size 432x288 with 1 Axes>"
            ]
          },
          "metadata": {
            "needs_background": "light"
          }
        }
      ]
    },
    {
      "cell_type": "markdown",
      "metadata": {
        "id": "DKnYFvkRhx1l"
      },
      "source": [
        "**Conclusiones:**\n",
        "\n",
        "La red neuronal obtuvo un 90% de efectividad en los datos no normalizados, devolviendo 102 predicciones para cada uno de los valores de **y**, a través del arreglo de datos guardado como **y_pred**."
      ]
    },
    {
      "cell_type": "markdown",
      "metadata": {
        "id": "1qIZLcuAh4zm"
      },
      "source": [
        "# Combined Cycle Power Plant dataset"
      ]
    },
    {
      "cell_type": "markdown",
      "metadata": {
        "id": "TC3b7X_zh4zq"
      },
      "source": [
        "**Planteamiento:**\n",
        "\n",
        "El objetivo de este conjunto de datos es predecir la producción de energía de una planta eléctrica (**PE**), a partir de indicadores como la temperatura ambiente, humedad relativa, etc.(*9568 muestras en total*).\n",
        "\n",
        "***Regresión***\n",
        "\n",
        "![](https://images.unsplash.com/photo-1585252155261-cff31944d781?ixlib=rb-1.2.1&ixid=MnwxMjA3fDB8MHxwaG90by1wYWdlfHx8fGVufDB8fHx8&auto=format&fit=crop&w=774&q=80)"
      ]
    },
    {
      "cell_type": "markdown",
      "metadata": {
        "id": "fNyRXcc6h4zu"
      },
      "source": [
        "**Metodología de solución**\n",
        "\n",
        "Al ser un problema de regresión, es necesario:\n",
        "\n",
        "\n",
        "1.   Importar el conjunto de datos y las librerías de manipulación numérica, normalización y visualización necesarias.\n",
        "\n",
        "2. Identificar el Target (variables a clasificar,  **y**) a partir de los demás datos del set de datos (**X**).\n",
        "\n",
        "3. Crear un conjunto de pruebas y otro de entrenamiento con los datos de **X** e **y**.\n",
        "\n",
        "4. Normalización de datos.\n",
        "\n",
        "5. Definir el modelo de red neuronal y entrenarlo con los datos de entrenamiento.\n",
        "\n",
        "6. Retar al modelo vs. los datos de prueba y obtener métricas de evaluación.\n",
        "\n",
        "7. Generar un gráfico que soporte efectividad de la regresión.\n",
        "\n"
      ]
    },
    {
      "cell_type": "markdown",
      "metadata": {
        "id": "qPaLnComh4zy"
      },
      "source": [
        "**1. Datos y librerías necesarias**"
      ]
    },
    {
      "cell_type": "code",
      "metadata": {
        "id": "xJVzZP4Yh4z1"
      },
      "source": [
        "#Red neuronal de regresión\n",
        "from sklearn.neural_network import MLPRegressor\n",
        "#Herramienta para crear conjuntos de prueba y entrenamiento\n",
        "from sklearn.model_selection import train_test_split\n",
        "#Escalador de datos\n",
        "from sklearn.preprocessing import StandardScaler\n",
        "#Manipulación numérica\n",
        "import pandas as pd\n",
        "#Gráficos para visualización de resultados\n",
        "import matplotlib.pyplot as plt"
      ],
      "execution_count": null,
      "outputs": []
    },
    {
      "cell_type": "markdown",
      "metadata": {
        "id": "XHpHG2RXh4z3"
      },
      "source": [
        "**2. Identificar variables a clasificar (*Target*), en este caso, la producción de energía (PE) de una planta eléctrica a partir de indicadores como la Temperatura y Humedad relativa.**"
      ]
    },
    {
      "cell_type": "code",
      "metadata": {
        "colab": {
          "base_uri": "https://localhost:8080/",
          "height": 424
        },
        "id": "8s4PesbVh4z7",
        "outputId": "f96274a3-bef9-4af3-faf1-2c8f6c6e87b4"
      },
      "source": [
        "#Carga del dataset en una variable local para su descripción\n",
        "power_data = pd.read_excel('https://github.com/jzambrano-xyz/datasets/blob/main/Folds5x2_pp.xlsx?raw=true')\n",
        "#Al describir el dataset es posible identificar el Target\n",
        "power_data"
      ],
      "execution_count": null,
      "outputs": [
        {
          "output_type": "execute_result",
          "data": {
            "text/html": [
              "<div>\n",
              "<style scoped>\n",
              "    .dataframe tbody tr th:only-of-type {\n",
              "        vertical-align: middle;\n",
              "    }\n",
              "\n",
              "    .dataframe tbody tr th {\n",
              "        vertical-align: top;\n",
              "    }\n",
              "\n",
              "    .dataframe thead th {\n",
              "        text-align: right;\n",
              "    }\n",
              "</style>\n",
              "<table border=\"1\" class=\"dataframe\">\n",
              "  <thead>\n",
              "    <tr style=\"text-align: right;\">\n",
              "      <th></th>\n",
              "      <th>AT</th>\n",
              "      <th>V</th>\n",
              "      <th>AP</th>\n",
              "      <th>RH</th>\n",
              "      <th>PE</th>\n",
              "    </tr>\n",
              "  </thead>\n",
              "  <tbody>\n",
              "    <tr>\n",
              "      <th>0</th>\n",
              "      <td>14.96</td>\n",
              "      <td>41.76</td>\n",
              "      <td>1024.07</td>\n",
              "      <td>73.17</td>\n",
              "      <td>463.26</td>\n",
              "    </tr>\n",
              "    <tr>\n",
              "      <th>1</th>\n",
              "      <td>25.18</td>\n",
              "      <td>62.96</td>\n",
              "      <td>1020.04</td>\n",
              "      <td>59.08</td>\n",
              "      <td>444.37</td>\n",
              "    </tr>\n",
              "    <tr>\n",
              "      <th>2</th>\n",
              "      <td>5.11</td>\n",
              "      <td>39.40</td>\n",
              "      <td>1012.16</td>\n",
              "      <td>92.14</td>\n",
              "      <td>488.56</td>\n",
              "    </tr>\n",
              "    <tr>\n",
              "      <th>3</th>\n",
              "      <td>20.86</td>\n",
              "      <td>57.32</td>\n",
              "      <td>1010.24</td>\n",
              "      <td>76.64</td>\n",
              "      <td>446.48</td>\n",
              "    </tr>\n",
              "    <tr>\n",
              "      <th>4</th>\n",
              "      <td>10.82</td>\n",
              "      <td>37.50</td>\n",
              "      <td>1009.23</td>\n",
              "      <td>96.62</td>\n",
              "      <td>473.90</td>\n",
              "    </tr>\n",
              "    <tr>\n",
              "      <th>...</th>\n",
              "      <td>...</td>\n",
              "      <td>...</td>\n",
              "      <td>...</td>\n",
              "      <td>...</td>\n",
              "      <td>...</td>\n",
              "    </tr>\n",
              "    <tr>\n",
              "      <th>9563</th>\n",
              "      <td>16.65</td>\n",
              "      <td>49.69</td>\n",
              "      <td>1014.01</td>\n",
              "      <td>91.00</td>\n",
              "      <td>460.03</td>\n",
              "    </tr>\n",
              "    <tr>\n",
              "      <th>9564</th>\n",
              "      <td>13.19</td>\n",
              "      <td>39.18</td>\n",
              "      <td>1023.67</td>\n",
              "      <td>66.78</td>\n",
              "      <td>469.62</td>\n",
              "    </tr>\n",
              "    <tr>\n",
              "      <th>9565</th>\n",
              "      <td>31.32</td>\n",
              "      <td>74.33</td>\n",
              "      <td>1012.92</td>\n",
              "      <td>36.48</td>\n",
              "      <td>429.57</td>\n",
              "    </tr>\n",
              "    <tr>\n",
              "      <th>9566</th>\n",
              "      <td>24.48</td>\n",
              "      <td>69.45</td>\n",
              "      <td>1013.86</td>\n",
              "      <td>62.39</td>\n",
              "      <td>435.74</td>\n",
              "    </tr>\n",
              "    <tr>\n",
              "      <th>9567</th>\n",
              "      <td>21.60</td>\n",
              "      <td>62.52</td>\n",
              "      <td>1017.23</td>\n",
              "      <td>67.87</td>\n",
              "      <td>453.28</td>\n",
              "    </tr>\n",
              "  </tbody>\n",
              "</table>\n",
              "<p>9568 rows × 5 columns</p>\n",
              "</div>"
            ],
            "text/plain": [
              "         AT      V       AP     RH      PE\n",
              "0     14.96  41.76  1024.07  73.17  463.26\n",
              "1     25.18  62.96  1020.04  59.08  444.37\n",
              "2      5.11  39.40  1012.16  92.14  488.56\n",
              "3     20.86  57.32  1010.24  76.64  446.48\n",
              "4     10.82  37.50  1009.23  96.62  473.90\n",
              "...     ...    ...      ...    ...     ...\n",
              "9563  16.65  49.69  1014.01  91.00  460.03\n",
              "9564  13.19  39.18  1023.67  66.78  469.62\n",
              "9565  31.32  74.33  1012.92  36.48  429.57\n",
              "9566  24.48  69.45  1013.86  62.39  435.74\n",
              "9567  21.60  62.52  1017.23  67.87  453.28\n",
              "\n",
              "[9568 rows x 5 columns]"
            ]
          },
          "metadata": {},
          "execution_count": 33
        }
      ]
    },
    {
      "cell_type": "code",
      "metadata": {
        "colab": {
          "base_uri": "https://localhost:8080/",
          "height": 424
        },
        "id": "vhRiK-nJh4z_",
        "outputId": "2c35ea8c-b1fe-45e4-fcb1-a57572a29166"
      },
      "source": [
        "#Pandas convierte los datos a un Dataframe para su manipulación numérica,\n",
        "#se guardan en X todos los datos del dataset, menos la columna a predecir\n",
        "XP = pd.DataFrame(power_data)\n",
        "XP = XP.drop(['PE'], axis = 1)\n",
        "XP"
      ],
      "execution_count": null,
      "outputs": [
        {
          "output_type": "execute_result",
          "data": {
            "text/html": [
              "<div>\n",
              "<style scoped>\n",
              "    .dataframe tbody tr th:only-of-type {\n",
              "        vertical-align: middle;\n",
              "    }\n",
              "\n",
              "    .dataframe tbody tr th {\n",
              "        vertical-align: top;\n",
              "    }\n",
              "\n",
              "    .dataframe thead th {\n",
              "        text-align: right;\n",
              "    }\n",
              "</style>\n",
              "<table border=\"1\" class=\"dataframe\">\n",
              "  <thead>\n",
              "    <tr style=\"text-align: right;\">\n",
              "      <th></th>\n",
              "      <th>AT</th>\n",
              "      <th>V</th>\n",
              "      <th>AP</th>\n",
              "      <th>RH</th>\n",
              "    </tr>\n",
              "  </thead>\n",
              "  <tbody>\n",
              "    <tr>\n",
              "      <th>0</th>\n",
              "      <td>14.96</td>\n",
              "      <td>41.76</td>\n",
              "      <td>1024.07</td>\n",
              "      <td>73.17</td>\n",
              "    </tr>\n",
              "    <tr>\n",
              "      <th>1</th>\n",
              "      <td>25.18</td>\n",
              "      <td>62.96</td>\n",
              "      <td>1020.04</td>\n",
              "      <td>59.08</td>\n",
              "    </tr>\n",
              "    <tr>\n",
              "      <th>2</th>\n",
              "      <td>5.11</td>\n",
              "      <td>39.40</td>\n",
              "      <td>1012.16</td>\n",
              "      <td>92.14</td>\n",
              "    </tr>\n",
              "    <tr>\n",
              "      <th>3</th>\n",
              "      <td>20.86</td>\n",
              "      <td>57.32</td>\n",
              "      <td>1010.24</td>\n",
              "      <td>76.64</td>\n",
              "    </tr>\n",
              "    <tr>\n",
              "      <th>4</th>\n",
              "      <td>10.82</td>\n",
              "      <td>37.50</td>\n",
              "      <td>1009.23</td>\n",
              "      <td>96.62</td>\n",
              "    </tr>\n",
              "    <tr>\n",
              "      <th>...</th>\n",
              "      <td>...</td>\n",
              "      <td>...</td>\n",
              "      <td>...</td>\n",
              "      <td>...</td>\n",
              "    </tr>\n",
              "    <tr>\n",
              "      <th>9563</th>\n",
              "      <td>16.65</td>\n",
              "      <td>49.69</td>\n",
              "      <td>1014.01</td>\n",
              "      <td>91.00</td>\n",
              "    </tr>\n",
              "    <tr>\n",
              "      <th>9564</th>\n",
              "      <td>13.19</td>\n",
              "      <td>39.18</td>\n",
              "      <td>1023.67</td>\n",
              "      <td>66.78</td>\n",
              "    </tr>\n",
              "    <tr>\n",
              "      <th>9565</th>\n",
              "      <td>31.32</td>\n",
              "      <td>74.33</td>\n",
              "      <td>1012.92</td>\n",
              "      <td>36.48</td>\n",
              "    </tr>\n",
              "    <tr>\n",
              "      <th>9566</th>\n",
              "      <td>24.48</td>\n",
              "      <td>69.45</td>\n",
              "      <td>1013.86</td>\n",
              "      <td>62.39</td>\n",
              "    </tr>\n",
              "    <tr>\n",
              "      <th>9567</th>\n",
              "      <td>21.60</td>\n",
              "      <td>62.52</td>\n",
              "      <td>1017.23</td>\n",
              "      <td>67.87</td>\n",
              "    </tr>\n",
              "  </tbody>\n",
              "</table>\n",
              "<p>9568 rows × 4 columns</p>\n",
              "</div>"
            ],
            "text/plain": [
              "         AT      V       AP     RH\n",
              "0     14.96  41.76  1024.07  73.17\n",
              "1     25.18  62.96  1020.04  59.08\n",
              "2      5.11  39.40  1012.16  92.14\n",
              "3     20.86  57.32  1010.24  76.64\n",
              "4     10.82  37.50  1009.23  96.62\n",
              "...     ...    ...      ...    ...\n",
              "9563  16.65  49.69  1014.01  91.00\n",
              "9564  13.19  39.18  1023.67  66.78\n",
              "9565  31.32  74.33  1012.92  36.48\n",
              "9566  24.48  69.45  1013.86  62.39\n",
              "9567  21.60  62.52  1017.23  67.87\n",
              "\n",
              "[9568 rows x 4 columns]"
            ]
          },
          "metadata": {},
          "execution_count": 48
        }
      ]
    },
    {
      "cell_type": "code",
      "metadata": {
        "colab": {
          "base_uri": "https://localhost:8080/",
          "height": 424
        },
        "id": "7NRXEcDPp_Gt",
        "outputId": "ffde1ce4-77a3-4375-d4da-9b594a7e1a0c"
      },
      "source": [
        "#Se guardan en y los datos a clasificar (Target, 'PE')\n",
        "yP = pd.DataFrame(power_data['PE'])\n",
        "yP"
      ],
      "execution_count": null,
      "outputs": [
        {
          "output_type": "execute_result",
          "data": {
            "text/html": [
              "<div>\n",
              "<style scoped>\n",
              "    .dataframe tbody tr th:only-of-type {\n",
              "        vertical-align: middle;\n",
              "    }\n",
              "\n",
              "    .dataframe tbody tr th {\n",
              "        vertical-align: top;\n",
              "    }\n",
              "\n",
              "    .dataframe thead th {\n",
              "        text-align: right;\n",
              "    }\n",
              "</style>\n",
              "<table border=\"1\" class=\"dataframe\">\n",
              "  <thead>\n",
              "    <tr style=\"text-align: right;\">\n",
              "      <th></th>\n",
              "      <th>PE</th>\n",
              "    </tr>\n",
              "  </thead>\n",
              "  <tbody>\n",
              "    <tr>\n",
              "      <th>0</th>\n",
              "      <td>463.26</td>\n",
              "    </tr>\n",
              "    <tr>\n",
              "      <th>1</th>\n",
              "      <td>444.37</td>\n",
              "    </tr>\n",
              "    <tr>\n",
              "      <th>2</th>\n",
              "      <td>488.56</td>\n",
              "    </tr>\n",
              "    <tr>\n",
              "      <th>3</th>\n",
              "      <td>446.48</td>\n",
              "    </tr>\n",
              "    <tr>\n",
              "      <th>4</th>\n",
              "      <td>473.90</td>\n",
              "    </tr>\n",
              "    <tr>\n",
              "      <th>...</th>\n",
              "      <td>...</td>\n",
              "    </tr>\n",
              "    <tr>\n",
              "      <th>9563</th>\n",
              "      <td>460.03</td>\n",
              "    </tr>\n",
              "    <tr>\n",
              "      <th>9564</th>\n",
              "      <td>469.62</td>\n",
              "    </tr>\n",
              "    <tr>\n",
              "      <th>9565</th>\n",
              "      <td>429.57</td>\n",
              "    </tr>\n",
              "    <tr>\n",
              "      <th>9566</th>\n",
              "      <td>435.74</td>\n",
              "    </tr>\n",
              "    <tr>\n",
              "      <th>9567</th>\n",
              "      <td>453.28</td>\n",
              "    </tr>\n",
              "  </tbody>\n",
              "</table>\n",
              "<p>9568 rows × 1 columns</p>\n",
              "</div>"
            ],
            "text/plain": [
              "          PE\n",
              "0     463.26\n",
              "1     444.37\n",
              "2     488.56\n",
              "3     446.48\n",
              "4     473.90\n",
              "...      ...\n",
              "9563  460.03\n",
              "9564  469.62\n",
              "9565  429.57\n",
              "9566  435.74\n",
              "9567  453.28\n",
              "\n",
              "[9568 rows x 1 columns]"
            ]
          },
          "metadata": {},
          "execution_count": 49
        }
      ]
    },
    {
      "cell_type": "markdown",
      "metadata": {
        "id": "DD07k10Oh40B"
      },
      "source": [
        "**3. Generación de conjuntos de prueba y entrenamiento**"
      ]
    },
    {
      "cell_type": "code",
      "metadata": {
        "id": "66H1pRP1h40F"
      },
      "source": [
        "#random_state indica a partir de qué dato se comenzará la aleatoriedad\n",
        "#test_size indica la proporción de datos a utilizar en el conjunto de prueba\n",
        "XP_train, XP_test, yP_train, yP_test = train_test_split(XP,yP,random_state=1, test_size=0.2)"
      ],
      "execution_count": null,
      "outputs": []
    },
    {
      "cell_type": "markdown",
      "metadata": {
        "id": "Tz0uMk_Kh40I"
      },
      "source": [
        "**4. Escalamiento de datos para su normalización**"
      ]
    },
    {
      "cell_type": "code",
      "metadata": {
        "id": "Chfn3cSSh40N"
      },
      "source": [
        "sc_XP = StandardScaler()\n",
        "XP_trainscaled=sc_XP.fit_transform(XP_train)\n",
        "XP_testscaled=sc_XP.transform(XP_test)"
      ],
      "execution_count": null,
      "outputs": []
    },
    {
      "cell_type": "markdown",
      "metadata": {
        "id": "YfCEPFcih40Q"
      },
      "source": [
        "**5. Definición del modelo de red neuronal a utilizar**"
      ]
    },
    {
      "cell_type": "code",
      "metadata": {
        "colab": {
          "base_uri": "https://localhost:8080/"
        },
        "id": "zgDWccLbh40R",
        "outputId": "50f138a9-667a-45c4-b22b-2d6369f0f760"
      },
      "source": [
        "#Al definir la red neuronal se eligió utilizar 4 capas ocultas\n",
        "#Cada una de las capas ocultas está definida en múltiplos de 4, porque se cuenta con 4 variables de entrada\n",
        "#Se eligió la función de activación relu\n",
        "#La función .fit comienza el entrenamiento\n",
        "regP = MLPRegressor(hidden_layer_sizes=(4,44,44,44),activation=\"relu\",random_state=1).fit(XP_trainscaled, yP_train)"
      ],
      "execution_count": null,
      "outputs": [
        {
          "output_type": "stream",
          "name": "stderr",
          "text": [
            "/usr/local/lib/python3.7/dist-packages/sklearn/neural_network/_multilayer_perceptron.py:1599: DataConversionWarning: A column-vector y was passed when a 1d array was expected. Please change the shape of y to (n_samples, ), for example using ravel().\n",
            "  y = column_or_1d(y, warn=True)\n",
            "/usr/local/lib/python3.7/dist-packages/sklearn/neural_network/_multilayer_perceptron.py:696: ConvergenceWarning: Stochastic Optimizer: Maximum iterations (200) reached and the optimization hasn't converged yet.\n",
            "  ConvergenceWarning,\n"
          ]
        }
      ]
    },
    {
      "cell_type": "markdown",
      "metadata": {
        "id": "KRgEz64sh40S"
      },
      "source": [
        "**6. Se reta al modelo con los datos de prueba y se obrienen métricas de evaluación**"
      ]
    },
    {
      "cell_type": "code",
      "metadata": {
        "colab": {
          "base_uri": "https://localhost:8080/"
        },
        "id": "xyLro4Lth40U",
        "outputId": "7c82d393-f73a-4f78-d23c-f69567348d83"
      },
      "source": [
        "yP_pred=regP.predict(XP_testscaled)\n",
        "print(regP.score(XP_testscaled, yP_test))"
      ],
      "execution_count": null,
      "outputs": [
        {
          "output_type": "stream",
          "name": "stdout",
          "text": [
            "0.9112853446616066\n"
          ]
        }
      ]
    },
    {
      "cell_type": "code",
      "metadata": {
        "colab": {
          "base_uri": "https://localhost:8080/"
        },
        "id": "vWXCX34_h40X",
        "outputId": "3df12940-1b7a-4725-8ae6-c2f3cc66c0c4"
      },
      "source": [
        "yP_pred"
      ],
      "execution_count": null,
      "outputs": [
        {
          "output_type": "execute_result",
          "data": {
            "text/plain": [
              "array([455.70118572, 463.81945773, 438.79493372, ..., 477.79629919,\n",
              "       438.18650685, 465.50641334])"
            ]
          },
          "metadata": {},
          "execution_count": 54
        }
      ]
    },
    {
      "cell_type": "markdown",
      "metadata": {
        "id": "iBEsGpkJh40Z"
      },
      "source": [
        "**7. Generación de gráficos para verificar la efectividad de la red neuronal**"
      ]
    },
    {
      "cell_type": "markdown",
      "metadata": {
        "id": "Wm6FT4HDvS5x"
      },
      "source": [
        "Como las gráficas se sobreponen demasiado, en este caso se muestran separadas."
      ]
    },
    {
      "cell_type": "code",
      "metadata": {
        "colab": {
          "base_uri": "https://localhost:8080/",
          "height": 424
        },
        "id": "uM_yv2sbxT4z",
        "outputId": "f1cffb19-a36f-4f93-e588-0427d9aa58cc"
      },
      "source": [
        "yP"
      ],
      "execution_count": null,
      "outputs": [
        {
          "output_type": "execute_result",
          "data": {
            "text/html": [
              "<div>\n",
              "<style scoped>\n",
              "    .dataframe tbody tr th:only-of-type {\n",
              "        vertical-align: middle;\n",
              "    }\n",
              "\n",
              "    .dataframe tbody tr th {\n",
              "        vertical-align: top;\n",
              "    }\n",
              "\n",
              "    .dataframe thead th {\n",
              "        text-align: right;\n",
              "    }\n",
              "</style>\n",
              "<table border=\"1\" class=\"dataframe\">\n",
              "  <thead>\n",
              "    <tr style=\"text-align: right;\">\n",
              "      <th></th>\n",
              "      <th>PE</th>\n",
              "    </tr>\n",
              "  </thead>\n",
              "  <tbody>\n",
              "    <tr>\n",
              "      <th>0</th>\n",
              "      <td>463.26</td>\n",
              "    </tr>\n",
              "    <tr>\n",
              "      <th>1</th>\n",
              "      <td>444.37</td>\n",
              "    </tr>\n",
              "    <tr>\n",
              "      <th>2</th>\n",
              "      <td>488.56</td>\n",
              "    </tr>\n",
              "    <tr>\n",
              "      <th>3</th>\n",
              "      <td>446.48</td>\n",
              "    </tr>\n",
              "    <tr>\n",
              "      <th>4</th>\n",
              "      <td>473.90</td>\n",
              "    </tr>\n",
              "    <tr>\n",
              "      <th>...</th>\n",
              "      <td>...</td>\n",
              "    </tr>\n",
              "    <tr>\n",
              "      <th>9563</th>\n",
              "      <td>460.03</td>\n",
              "    </tr>\n",
              "    <tr>\n",
              "      <th>9564</th>\n",
              "      <td>469.62</td>\n",
              "    </tr>\n",
              "    <tr>\n",
              "      <th>9565</th>\n",
              "      <td>429.57</td>\n",
              "    </tr>\n",
              "    <tr>\n",
              "      <th>9566</th>\n",
              "      <td>435.74</td>\n",
              "    </tr>\n",
              "    <tr>\n",
              "      <th>9567</th>\n",
              "      <td>453.28</td>\n",
              "    </tr>\n",
              "  </tbody>\n",
              "</table>\n",
              "<p>9568 rows × 1 columns</p>\n",
              "</div>"
            ],
            "text/plain": [
              "          PE\n",
              "0     463.26\n",
              "1     444.37\n",
              "2     488.56\n",
              "3     446.48\n",
              "4     473.90\n",
              "...      ...\n",
              "9563  460.03\n",
              "9564  469.62\n",
              "9565  429.57\n",
              "9566  435.74\n",
              "9567  453.28\n",
              "\n",
              "[9568 rows x 1 columns]"
            ]
          },
          "metadata": {},
          "execution_count": 55
        }
      ]
    },
    {
      "cell_type": "code",
      "metadata": {
        "colab": {
          "base_uri": "https://localhost:8080/",
          "height": 450
        },
        "id": "tvx9oZVxh40c",
        "outputId": "bf8fc1fd-09ca-4c09-ba9f-e67e202f35ad"
      },
      "source": [
        "#Se genera la gráfica\n",
        "#yP contiene los datos reales\n",
        "plt.hist(yP)"
      ],
      "execution_count": null,
      "outputs": [
        {
          "output_type": "execute_result",
          "data": {
            "text/plain": [
              "(array([[0., 0., 0., ..., 0., 0., 0.],\n",
              "        [0., 0., 0., ..., 0., 0., 0.],\n",
              "        [0., 0., 0., ..., 0., 0., 1.],\n",
              "        ...,\n",
              "        [0., 1., 0., ..., 0., 0., 0.],\n",
              "        [0., 0., 1., ..., 0., 0., 0.],\n",
              "        [0., 0., 0., ..., 0., 0., 0.]]),\n",
              " array([420.26, 427.81, 435.36, 442.91, 450.46, 458.01, 465.56, 473.11,\n",
              "        480.66, 488.21, 495.76]),\n",
              " <a list of 9568 Lists of Patches objects>)"
            ]
          },
          "metadata": {},
          "execution_count": 56
        },
        {
          "output_type": "display_data",
          "data": {
            "image/png": "[encoded data removed]",
            "text/plain": [
              "<Figure size 432x288 with 1 Axes>"
            ]
          },
          "metadata": {
            "needs_background": "light"
          }
        }
      ]
    },
    {
      "cell_type": "code",
      "metadata": {
        "colab": {
          "base_uri": "https://localhost:8080/",
          "height": 358
        },
        "id": "3mbP3Y2Avcvj",
        "outputId": "20b00fd3-8780-4f7e-94d3-94e9b5f00a81"
      },
      "source": [
        "#y_pred contiene las predicciones\n",
        "plt.hist(yP_pred, color = 'b')"
      ],
      "execution_count": null,
      "outputs": [
        {
          "output_type": "execute_result",
          "data": {
            "text/plain": [
              "(array([ 17., 568., 316., 159., 159., 215., 223., 160.,  87.,  10.]),\n",
              " array([426.29243932, 433.55362761, 440.81481591, 448.0760042 ,\n",
              "        455.3371925 , 462.59838079, 469.85956909, 477.12075738,\n",
              "        484.38194568, 491.64313397, 498.90432227]),\n",
              " <a list of 10 Patch objects>)"
            ]
          },
          "metadata": {},
          "execution_count": 57
        },
        {
          "output_type": "display_data",
          "data": {
            "image/png": "[encoded data removed]",
            "text/plain": [
              "<Figure size 432x288 with 1 Axes>"
            ]
          },
          "metadata": {
            "needs_background": "light"
          }
        }
      ]
    },
    {
      "cell_type": "markdown",
      "metadata": {
        "id": "KOxrb8y6h40e"
      },
      "source": [
        "**Conclusiones:**\n",
        "\n",
        "La red neuronal obtuvo un 91% de efectividad, devolviendo 9568 predicciones para cada uno de los valores de **y**, a través del arreglo de datos guardado como **y_pred**."
      ]
    }
  ]
}